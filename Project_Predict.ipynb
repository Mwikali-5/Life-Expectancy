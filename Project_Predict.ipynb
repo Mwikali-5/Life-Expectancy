{
  "nbformat": 4,
  "nbformat_minor": 0,
  "metadata": {
    "colab": {
      "provenance": [],
      "authorship_tag": "ABX9TyNtq+jj0FN5qdETRJGK0422",
      "include_colab_link": true
    },
    "kernelspec": {
      "name": "python3",
      "display_name": "Python 3"
    },
    "language_info": {
      "name": "python"
    }
  },
  "cells": [
    {
      "cell_type": "markdown",
      "metadata": {
        "id": "view-in-github",
        "colab_type": "text"
      },
      "source": [
        "<a href=\"https://colab.research.google.com/github/Mwikali-5/Life-Expectancy/blob/main/Project_Predict.ipynb\" target=\"_parent\"><img src=\"https://colab.research.google.com/assets/colab-badge.svg\" alt=\"Open In Colab\"/></a>"
      ]
    },
    {
      "cell_type": "markdown",
      "source": [
        "** Classification Project:**\n",
        "\n",
        "**The project should have the following:**\n",
        "\n",
        "**1. Model features and preprocessing approaches**\n",
        "**2. Different kinds of models (logistic regression, k-nearest neighbors, decision trees, etc.)**\n",
        "**3. Different model hyperparameters**\n",
        "\n",
        "\n",
        "**At minimum three models must be built:**\n",
        "**1. Simple baseline model, in this case I will choose logistic regression**\n",
        "**2. A complex model....random forest and XGBoost**\n",
        "**3. Different model hyperparameters, so this means a grid search**\n",
        "\n",
        "\n",
        "**For this project my target variable will be seasonal_vaccine so we are going to drop all the h1n1 variables since we will not be working with them.**\n",
        "\n",
        "**Both are binary variables: 0 = No; 1 = Yes. Some respondents didn't get either vaccine, others got only one, and some got both.**"
      ],
      "metadata": {
        "id": "A-Ih-TWQ0lrp"
      }
    },
    {
      "cell_type": "markdown",
      "source": [
        "# **Phase 3 Supervised Learning Project**\n",
        "\n",
        "# **Assessment Question**\n",
        "\n",
        "Tanzania, as a developing country, struggles with providing clean water to its population of over 57,000,000. There are many water points already established in the country, but some are in need of repair while others have failed altogether. \n",
        "Using data from Taarifa and the Tanzanian Ministry of Water to do the following: \n",
        "\n",
        "Build a classifier model to predict the condition of the water pumps.\n",
        "\n",
        "# **Implementation**\n",
        "\n",
        "# 1. Defining the Question\n",
        "\n",
        "# a) Specifying the Question\n",
        "\n",
        "Build a classifier model to predict the condition of the water pumps.\n",
        "\n",
        "# b)Defining the Metric for Success\n",
        "\n",
        "To predict whether or not the water pumps are functional, need repairs or do not worl at all with an accuracy of at least 75%\n",
        "\n",
        "# c) Understanding the context\n",
        "\n",
        "The dataset gives information about water pumps that are used to provide water to the citizens of Tanzania. The government want to know which pumps are not doing well so that they can build well that are fully functional. \n",
        "The aim is to predict the operating condition of a waterpoint for each record in the dataset.\n",
        "\n",
        "# d) Recording the Experimental Design\n",
        "\n",
        "1. Importing the libraries\n",
        "2. Reading the data\n",
        "3. Data Wrangling\n",
        "4. Exploratory data analysis\n",
        "5. Data preprocessing\n",
        "6. Supervised Learning\n",
        "7. Conclusions\n",
        "\n",
        "# e) Data Description\n",
        "\n",
        "1. amount_tsh - Total static head (amount water available to waterpoint).\n",
        "2. date_recorded - The date the row was entered.\n",
        "3. funder - Who funded the well.\n",
        "4. gps_height - Altitude of the well\n",
        "5. installer - Organization that installed the well\n",
        "6. longitude - GPS coordinate\n",
        "7. latitude - GPS coordinate)\n",
        "8. wpt_name - Name of the waterpoint if there is one\n",
        "9. num_private - is it private\n",
        "10. basin - Geographic water basin\n",
        "11. dsubvillage - Geographic location\n",
        "12. region - Geographic location\n",
        "13. region_code - Geographic location (coded)\n",
        "14. district_code - Geographic location (coded)\n",
        "15. lga - Geographic location\n",
        "16. ward - Geographic location\n",
        "17. population - Population around the well\n",
        "18. public_meeting - True/False.\n",
        "19. recorded_by - Group entering this row of data\n",
        "20. scheme_management - Who operates the waterpoint.\n",
        "21. scheme_name - Who operates the waterpoint.\n",
        "22. permit - If the waterpoint is permitted.\n",
        "23. construction_year - Year the waterpoint was constructed.\n",
        "24. extraction_type - The kind of extraction the waterpoint uses.\n",
        "25. extraction_type_group - The kind of extraction the waterpoint uses.\n",
        "26. extraction_type_class - The kind of extraction the waterpoint uses.\n",
        "27. management - How the waterpoint is managed.\n",
        "28. management_group - How the waterpoint is managed.\n",
        "29. payment - What the water costs.\n",
        "30. payment_type - What the water costs.\n",
        "31. water_quality - The quality of the water.\n",
        "32. quality_group - The quality of the water.\n",
        "33. quantity - The quantity of water.\n",
        "34. quantity_group - The quantity of water.\n",
        "35. source - The source of the water.\n",
        "36. source_type - The source of the water.\n",
        "37. esource_class - The source of the water.\n",
        "38. waterpoint_type - The kind of waterpoint.\n",
        "39. waterpoint_type_group - The kind of waterpoint."
      ],
      "metadata": {
        "id": "7y6JsJZ34-gr"
      }
    },
    {
      "cell_type": "markdown",
      "source": [
        "# **Importing Libraries**"
      ],
      "metadata": {
        "id": "NglPdWNIDx3j"
      }
    },
    {
      "cell_type": "code",
      "execution_count": 25,
      "metadata": {
        "id": "5GCeS_p-p35D"
      },
      "outputs": [],
      "source": [
        "import pandas as pd\n",
        "import numpy as np\n",
        "import seaborn as sns\n",
        "import matplotlib.pyplot as plt\n",
        "import warnings\n",
        "warnings.filterwarnings('ignore')"
      ]
    },
    {
      "cell_type": "markdown",
      "source": [
        "# **Reading Data**"
      ],
      "metadata": {
        "id": "6wKU99PqEN6T"
      }
    },
    {
      "cell_type": "code",
      "source": [
        "#Loading the data\n",
        "#The data is composed of three files, training_features, test_featues and training_set_labels\n",
        "\n",
        "#data processing:\n",
        "\n",
        "train_features = pd.read_csv(\"/content/train.csv\", sep=',', index_col = 'id')  #features are the X variable in simple linear regression\n",
        "train_labels = pd.read_csv(\"/content/train-labels.csv\", sep=',', index_col = 'id')    #labels are the Y variable in simple linear regression"
      ],
      "metadata": {
        "id": "zvXTGXsbqcnv"
      },
      "execution_count": 26,
      "outputs": []
    },
    {
      "cell_type": "markdown",
      "source": [
        "# **Data Exploration**"
      ],
      "metadata": {
        "id": "Q5wX1CD8GH75"
      }
    },
    {
      "cell_type": "code",
      "source": [
        "#Preview of the train_features dataset\n",
        "\n",
        "train_features.head()"
      ],
      "metadata": {
        "colab": {
          "base_uri": "https://localhost:8080/",
          "height": 452
        },
        "id": "QWCvQqJcGNId",
        "outputId": "a96bf8b3-9cd4-400b-a0d6-08964229e754"
      },
      "execution_count": 27,
      "outputs": [
        {
          "output_type": "execute_result",
          "data": {
            "text/plain": [
              "       amount_tsh date_recorded        funder  gps_height     installer  \\\n",
              "id                                                                        \n",
              "69572      6000.0    2011-03-14         Roman        1390         Roman   \n",
              "8776          0.0    2013-03-06       Grumeti        1399       GRUMETI   \n",
              "34310        25.0    2013-02-25  Lottery Club         686  World vision   \n",
              "67743         0.0    2013-01-28        Unicef         263        UNICEF   \n",
              "19728         0.0    2011-07-13   Action In A           0       Artisan   \n",
              "\n",
              "       longitude   latitude              wpt_name  num_private  \\\n",
              "id                                                               \n",
              "69572  34.938093  -9.856322                  none            0   \n",
              "8776   34.698766  -2.147466              Zahanati            0   \n",
              "34310  37.460664  -3.821329           Kwa Mahundi            0   \n",
              "67743  38.486161 -11.155298  Zahanati Ya Nanyumbu            0   \n",
              "19728  31.130847  -1.825359               Shuleni            0   \n",
              "\n",
              "                         basin  ... payment_type water_quality  quality_group  \\\n",
              "id                              ...                                             \n",
              "69572               Lake Nyasa  ...     annually          soft           good   \n",
              "8776             Lake Victoria  ...    never pay          soft           good   \n",
              "34310                  Pangani  ...   per bucket          soft           good   \n",
              "67743  Ruvuma / Southern Coast  ...    never pay          soft           good   \n",
              "19728            Lake Victoria  ...    never pay          soft           good   \n",
              "\n",
              "           quantity quantity_group                source  \\\n",
              "id                                                         \n",
              "69572        enough         enough                spring   \n",
              "8776   insufficient   insufficient  rainwater harvesting   \n",
              "34310        enough         enough                   dam   \n",
              "67743           dry            dry           machine dbh   \n",
              "19728      seasonal       seasonal  rainwater harvesting   \n",
              "\n",
              "                source_type source_class              waterpoint_type  \\\n",
              "id                                                                      \n",
              "69572                spring  groundwater           communal standpipe   \n",
              "8776   rainwater harvesting      surface           communal standpipe   \n",
              "34310                   dam      surface  communal standpipe multiple   \n",
              "67743              borehole  groundwater  communal standpipe multiple   \n",
              "19728  rainwater harvesting      surface           communal standpipe   \n",
              "\n",
              "      waterpoint_type_group  \n",
              "id                           \n",
              "69572    communal standpipe  \n",
              "8776     communal standpipe  \n",
              "34310    communal standpipe  \n",
              "67743    communal standpipe  \n",
              "19728    communal standpipe  \n",
              "\n",
              "[5 rows x 39 columns]"
            ],
            "text/html": [
              "\n",
              "  <div id=\"df-517397bf-56ee-4277-918f-7ab956aee708\">\n",
              "    <div class=\"colab-df-container\">\n",
              "      <div>\n",
              "<style scoped>\n",
              "    .dataframe tbody tr th:only-of-type {\n",
              "        vertical-align: middle;\n",
              "    }\n",
              "\n",
              "    .dataframe tbody tr th {\n",
              "        vertical-align: top;\n",
              "    }\n",
              "\n",
              "    .dataframe thead th {\n",
              "        text-align: right;\n",
              "    }\n",
              "</style>\n",
              "<table border=\"1\" class=\"dataframe\">\n",
              "  <thead>\n",
              "    <tr style=\"text-align: right;\">\n",
              "      <th></th>\n",
              "      <th>amount_tsh</th>\n",
              "      <th>date_recorded</th>\n",
              "      <th>funder</th>\n",
              "      <th>gps_height</th>\n",
              "      <th>installer</th>\n",
              "      <th>longitude</th>\n",
              "      <th>latitude</th>\n",
              "      <th>wpt_name</th>\n",
              "      <th>num_private</th>\n",
              "      <th>basin</th>\n",
              "      <th>...</th>\n",
              "      <th>payment_type</th>\n",
              "      <th>water_quality</th>\n",
              "      <th>quality_group</th>\n",
              "      <th>quantity</th>\n",
              "      <th>quantity_group</th>\n",
              "      <th>source</th>\n",
              "      <th>source_type</th>\n",
              "      <th>source_class</th>\n",
              "      <th>waterpoint_type</th>\n",
              "      <th>waterpoint_type_group</th>\n",
              "    </tr>\n",
              "    <tr>\n",
              "      <th>id</th>\n",
              "      <th></th>\n",
              "      <th></th>\n",
              "      <th></th>\n",
              "      <th></th>\n",
              "      <th></th>\n",
              "      <th></th>\n",
              "      <th></th>\n",
              "      <th></th>\n",
              "      <th></th>\n",
              "      <th></th>\n",
              "      <th></th>\n",
              "      <th></th>\n",
              "      <th></th>\n",
              "      <th></th>\n",
              "      <th></th>\n",
              "      <th></th>\n",
              "      <th></th>\n",
              "      <th></th>\n",
              "      <th></th>\n",
              "      <th></th>\n",
              "      <th></th>\n",
              "    </tr>\n",
              "  </thead>\n",
              "  <tbody>\n",
              "    <tr>\n",
              "      <th>69572</th>\n",
              "      <td>6000.0</td>\n",
              "      <td>2011-03-14</td>\n",
              "      <td>Roman</td>\n",
              "      <td>1390</td>\n",
              "      <td>Roman</td>\n",
              "      <td>34.938093</td>\n",
              "      <td>-9.856322</td>\n",
              "      <td>none</td>\n",
              "      <td>0</td>\n",
              "      <td>Lake Nyasa</td>\n",
              "      <td>...</td>\n",
              "      <td>annually</td>\n",
              "      <td>soft</td>\n",
              "      <td>good</td>\n",
              "      <td>enough</td>\n",
              "      <td>enough</td>\n",
              "      <td>spring</td>\n",
              "      <td>spring</td>\n",
              "      <td>groundwater</td>\n",
              "      <td>communal standpipe</td>\n",
              "      <td>communal standpipe</td>\n",
              "    </tr>\n",
              "    <tr>\n",
              "      <th>8776</th>\n",
              "      <td>0.0</td>\n",
              "      <td>2013-03-06</td>\n",
              "      <td>Grumeti</td>\n",
              "      <td>1399</td>\n",
              "      <td>GRUMETI</td>\n",
              "      <td>34.698766</td>\n",
              "      <td>-2.147466</td>\n",
              "      <td>Zahanati</td>\n",
              "      <td>0</td>\n",
              "      <td>Lake Victoria</td>\n",
              "      <td>...</td>\n",
              "      <td>never pay</td>\n",
              "      <td>soft</td>\n",
              "      <td>good</td>\n",
              "      <td>insufficient</td>\n",
              "      <td>insufficient</td>\n",
              "      <td>rainwater harvesting</td>\n",
              "      <td>rainwater harvesting</td>\n",
              "      <td>surface</td>\n",
              "      <td>communal standpipe</td>\n",
              "      <td>communal standpipe</td>\n",
              "    </tr>\n",
              "    <tr>\n",
              "      <th>34310</th>\n",
              "      <td>25.0</td>\n",
              "      <td>2013-02-25</td>\n",
              "      <td>Lottery Club</td>\n",
              "      <td>686</td>\n",
              "      <td>World vision</td>\n",
              "      <td>37.460664</td>\n",
              "      <td>-3.821329</td>\n",
              "      <td>Kwa Mahundi</td>\n",
              "      <td>0</td>\n",
              "      <td>Pangani</td>\n",
              "      <td>...</td>\n",
              "      <td>per bucket</td>\n",
              "      <td>soft</td>\n",
              "      <td>good</td>\n",
              "      <td>enough</td>\n",
              "      <td>enough</td>\n",
              "      <td>dam</td>\n",
              "      <td>dam</td>\n",
              "      <td>surface</td>\n",
              "      <td>communal standpipe multiple</td>\n",
              "      <td>communal standpipe</td>\n",
              "    </tr>\n",
              "    <tr>\n",
              "      <th>67743</th>\n",
              "      <td>0.0</td>\n",
              "      <td>2013-01-28</td>\n",
              "      <td>Unicef</td>\n",
              "      <td>263</td>\n",
              "      <td>UNICEF</td>\n",
              "      <td>38.486161</td>\n",
              "      <td>-11.155298</td>\n",
              "      <td>Zahanati Ya Nanyumbu</td>\n",
              "      <td>0</td>\n",
              "      <td>Ruvuma / Southern Coast</td>\n",
              "      <td>...</td>\n",
              "      <td>never pay</td>\n",
              "      <td>soft</td>\n",
              "      <td>good</td>\n",
              "      <td>dry</td>\n",
              "      <td>dry</td>\n",
              "      <td>machine dbh</td>\n",
              "      <td>borehole</td>\n",
              "      <td>groundwater</td>\n",
              "      <td>communal standpipe multiple</td>\n",
              "      <td>communal standpipe</td>\n",
              "    </tr>\n",
              "    <tr>\n",
              "      <th>19728</th>\n",
              "      <td>0.0</td>\n",
              "      <td>2011-07-13</td>\n",
              "      <td>Action In A</td>\n",
              "      <td>0</td>\n",
              "      <td>Artisan</td>\n",
              "      <td>31.130847</td>\n",
              "      <td>-1.825359</td>\n",
              "      <td>Shuleni</td>\n",
              "      <td>0</td>\n",
              "      <td>Lake Victoria</td>\n",
              "      <td>...</td>\n",
              "      <td>never pay</td>\n",
              "      <td>soft</td>\n",
              "      <td>good</td>\n",
              "      <td>seasonal</td>\n",
              "      <td>seasonal</td>\n",
              "      <td>rainwater harvesting</td>\n",
              "      <td>rainwater harvesting</td>\n",
              "      <td>surface</td>\n",
              "      <td>communal standpipe</td>\n",
              "      <td>communal standpipe</td>\n",
              "    </tr>\n",
              "  </tbody>\n",
              "</table>\n",
              "<p>5 rows × 39 columns</p>\n",
              "</div>\n",
              "      <button class=\"colab-df-convert\" onclick=\"convertToInteractive('df-517397bf-56ee-4277-918f-7ab956aee708')\"\n",
              "              title=\"Convert this dataframe to an interactive table.\"\n",
              "              style=\"display:none;\">\n",
              "        \n",
              "  <svg xmlns=\"http://www.w3.org/2000/svg\" height=\"24px\"viewBox=\"0 0 24 24\"\n",
              "       width=\"24px\">\n",
              "    <path d=\"M0 0h24v24H0V0z\" fill=\"none\"/>\n",
              "    <path d=\"M18.56 5.44l.94 2.06.94-2.06 2.06-.94-2.06-.94-.94-2.06-.94 2.06-2.06.94zm-11 1L8.5 8.5l.94-2.06 2.06-.94-2.06-.94L8.5 2.5l-.94 2.06-2.06.94zm10 10l.94 2.06.94-2.06 2.06-.94-2.06-.94-.94-2.06-.94 2.06-2.06.94z\"/><path d=\"M17.41 7.96l-1.37-1.37c-.4-.4-.92-.59-1.43-.59-.52 0-1.04.2-1.43.59L10.3 9.45l-7.72 7.72c-.78.78-.78 2.05 0 2.83L4 21.41c.39.39.9.59 1.41.59.51 0 1.02-.2 1.41-.59l7.78-7.78 2.81-2.81c.8-.78.8-2.07 0-2.86zM5.41 20L4 18.59l7.72-7.72 1.47 1.35L5.41 20z\"/>\n",
              "  </svg>\n",
              "      </button>\n",
              "      \n",
              "  <style>\n",
              "    .colab-df-container {\n",
              "      display:flex;\n",
              "      flex-wrap:wrap;\n",
              "      gap: 12px;\n",
              "    }\n",
              "\n",
              "    .colab-df-convert {\n",
              "      background-color: #E8F0FE;\n",
              "      border: none;\n",
              "      border-radius: 50%;\n",
              "      cursor: pointer;\n",
              "      display: none;\n",
              "      fill: #1967D2;\n",
              "      height: 32px;\n",
              "      padding: 0 0 0 0;\n",
              "      width: 32px;\n",
              "    }\n",
              "\n",
              "    .colab-df-convert:hover {\n",
              "      background-color: #E2EBFA;\n",
              "      box-shadow: 0px 1px 2px rgba(60, 64, 67, 0.3), 0px 1px 3px 1px rgba(60, 64, 67, 0.15);\n",
              "      fill: #174EA6;\n",
              "    }\n",
              "\n",
              "    [theme=dark] .colab-df-convert {\n",
              "      background-color: #3B4455;\n",
              "      fill: #D2E3FC;\n",
              "    }\n",
              "\n",
              "    [theme=dark] .colab-df-convert:hover {\n",
              "      background-color: #434B5C;\n",
              "      box-shadow: 0px 1px 3px 1px rgba(0, 0, 0, 0.15);\n",
              "      filter: drop-shadow(0px 1px 2px rgba(0, 0, 0, 0.3));\n",
              "      fill: #FFFFFF;\n",
              "    }\n",
              "  </style>\n",
              "\n",
              "      <script>\n",
              "        const buttonEl =\n",
              "          document.querySelector('#df-517397bf-56ee-4277-918f-7ab956aee708 button.colab-df-convert');\n",
              "        buttonEl.style.display =\n",
              "          google.colab.kernel.accessAllowed ? 'block' : 'none';\n",
              "\n",
              "        async function convertToInteractive(key) {\n",
              "          const element = document.querySelector('#df-517397bf-56ee-4277-918f-7ab956aee708');\n",
              "          const dataTable =\n",
              "            await google.colab.kernel.invokeFunction('convertToInteractive',\n",
              "                                                     [key], {});\n",
              "          if (!dataTable) return;\n",
              "\n",
              "          const docLinkHtml = 'Like what you see? Visit the ' +\n",
              "            '<a target=\"_blank\" href=https://colab.research.google.com/notebooks/data_table.ipynb>data table notebook</a>'\n",
              "            + ' to learn more about interactive tables.';\n",
              "          element.innerHTML = '';\n",
              "          dataTable['output_type'] = 'display_data';\n",
              "          await google.colab.output.renderOutput(dataTable, element);\n",
              "          const docLink = document.createElement('div');\n",
              "          docLink.innerHTML = docLinkHtml;\n",
              "          element.appendChild(docLink);\n",
              "        }\n",
              "      </script>\n",
              "    </div>\n",
              "  </div>\n",
              "  "
            ]
          },
          "metadata": {},
          "execution_count": 27
        }
      ]
    },
    {
      "cell_type": "code",
      "source": [
        "#Preview of the tail train_features dataset\n",
        "train_features.tail()"
      ],
      "metadata": {
        "colab": {
          "base_uri": "https://localhost:8080/",
          "height": 487
        },
        "id": "Abpk-avOGe6U",
        "outputId": "927d2aaf-9c05-43eb-e55c-5811662c9d08"
      },
      "execution_count": 28,
      "outputs": [
        {
          "output_type": "execute_result",
          "data": {
            "text/plain": [
              "       amount_tsh date_recorded           funder  gps_height installer  \\\n",
              "id                                                                       \n",
              "60739        10.0    2013-05-03  Germany Republi        1210       CES   \n",
              "27263      4700.0    2011-05-07      Cefa-njombe        1212      Cefa   \n",
              "37057         0.0    2011-04-11              NaN           0       NaN   \n",
              "31282         0.0    2011-03-08            Malec           0      Musa   \n",
              "26348         0.0    2011-03-23       World Bank         191     World   \n",
              "\n",
              "       longitude  latitude             wpt_name  num_private        basin  \\\n",
              "id                                                                          \n",
              "60739  37.169807 -3.253847  Area Three Namba 27            0      Pangani   \n",
              "27263  35.249991 -9.070629    Kwa Yahona Kuvala            0       Rufiji   \n",
              "37057  34.017087 -8.750434              Mashine            0       Rufiji   \n",
              "31282  35.861315 -6.378573               Mshoro            0       Rufiji   \n",
              "26348  38.104048 -6.747464      Kwa Mzee Lugawa            0  Wami / Ruvu   \n",
              "\n",
              "       ... payment_type water_quality  quality_group      quantity  \\\n",
              "id     ...                                                           \n",
              "60739  ...   per bucket          soft           good        enough   \n",
              "27263  ...     annually          soft           good        enough   \n",
              "37057  ...      monthly      fluoride       fluoride        enough   \n",
              "31282  ...    never pay          soft           good  insufficient   \n",
              "26348  ...   on failure         salty          salty        enough   \n",
              "\n",
              "      quantity_group        source   source_type source_class  \\\n",
              "id                                                              \n",
              "60739         enough        spring        spring  groundwater   \n",
              "27263         enough         river    river/lake      surface   \n",
              "37057         enough   machine dbh      borehole  groundwater   \n",
              "31282   insufficient  shallow well  shallow well  groundwater   \n",
              "26348         enough  shallow well  shallow well  groundwater   \n",
              "\n",
              "          waterpoint_type waterpoint_type_group  \n",
              "id                                               \n",
              "60739  communal standpipe    communal standpipe  \n",
              "27263  communal standpipe    communal standpipe  \n",
              "37057           hand pump             hand pump  \n",
              "31282           hand pump             hand pump  \n",
              "26348           hand pump             hand pump  \n",
              "\n",
              "[5 rows x 39 columns]"
            ],
            "text/html": [
              "\n",
              "  <div id=\"df-28d145b1-b23c-46d4-a967-1d73183b608b\">\n",
              "    <div class=\"colab-df-container\">\n",
              "      <div>\n",
              "<style scoped>\n",
              "    .dataframe tbody tr th:only-of-type {\n",
              "        vertical-align: middle;\n",
              "    }\n",
              "\n",
              "    .dataframe tbody tr th {\n",
              "        vertical-align: top;\n",
              "    }\n",
              "\n",
              "    .dataframe thead th {\n",
              "        text-align: right;\n",
              "    }\n",
              "</style>\n",
              "<table border=\"1\" class=\"dataframe\">\n",
              "  <thead>\n",
              "    <tr style=\"text-align: right;\">\n",
              "      <th></th>\n",
              "      <th>amount_tsh</th>\n",
              "      <th>date_recorded</th>\n",
              "      <th>funder</th>\n",
              "      <th>gps_height</th>\n",
              "      <th>installer</th>\n",
              "      <th>longitude</th>\n",
              "      <th>latitude</th>\n",
              "      <th>wpt_name</th>\n",
              "      <th>num_private</th>\n",
              "      <th>basin</th>\n",
              "      <th>...</th>\n",
              "      <th>payment_type</th>\n",
              "      <th>water_quality</th>\n",
              "      <th>quality_group</th>\n",
              "      <th>quantity</th>\n",
              "      <th>quantity_group</th>\n",
              "      <th>source</th>\n",
              "      <th>source_type</th>\n",
              "      <th>source_class</th>\n",
              "      <th>waterpoint_type</th>\n",
              "      <th>waterpoint_type_group</th>\n",
              "    </tr>\n",
              "    <tr>\n",
              "      <th>id</th>\n",
              "      <th></th>\n",
              "      <th></th>\n",
              "      <th></th>\n",
              "      <th></th>\n",
              "      <th></th>\n",
              "      <th></th>\n",
              "      <th></th>\n",
              "      <th></th>\n",
              "      <th></th>\n",
              "      <th></th>\n",
              "      <th></th>\n",
              "      <th></th>\n",
              "      <th></th>\n",
              "      <th></th>\n",
              "      <th></th>\n",
              "      <th></th>\n",
              "      <th></th>\n",
              "      <th></th>\n",
              "      <th></th>\n",
              "      <th></th>\n",
              "      <th></th>\n",
              "    </tr>\n",
              "  </thead>\n",
              "  <tbody>\n",
              "    <tr>\n",
              "      <th>60739</th>\n",
              "      <td>10.0</td>\n",
              "      <td>2013-05-03</td>\n",
              "      <td>Germany Republi</td>\n",
              "      <td>1210</td>\n",
              "      <td>CES</td>\n",
              "      <td>37.169807</td>\n",
              "      <td>-3.253847</td>\n",
              "      <td>Area Three Namba 27</td>\n",
              "      <td>0</td>\n",
              "      <td>Pangani</td>\n",
              "      <td>...</td>\n",
              "      <td>per bucket</td>\n",
              "      <td>soft</td>\n",
              "      <td>good</td>\n",
              "      <td>enough</td>\n",
              "      <td>enough</td>\n",
              "      <td>spring</td>\n",
              "      <td>spring</td>\n",
              "      <td>groundwater</td>\n",
              "      <td>communal standpipe</td>\n",
              "      <td>communal standpipe</td>\n",
              "    </tr>\n",
              "    <tr>\n",
              "      <th>27263</th>\n",
              "      <td>4700.0</td>\n",
              "      <td>2011-05-07</td>\n",
              "      <td>Cefa-njombe</td>\n",
              "      <td>1212</td>\n",
              "      <td>Cefa</td>\n",
              "      <td>35.249991</td>\n",
              "      <td>-9.070629</td>\n",
              "      <td>Kwa Yahona Kuvala</td>\n",
              "      <td>0</td>\n",
              "      <td>Rufiji</td>\n",
              "      <td>...</td>\n",
              "      <td>annually</td>\n",
              "      <td>soft</td>\n",
              "      <td>good</td>\n",
              "      <td>enough</td>\n",
              "      <td>enough</td>\n",
              "      <td>river</td>\n",
              "      <td>river/lake</td>\n",
              "      <td>surface</td>\n",
              "      <td>communal standpipe</td>\n",
              "      <td>communal standpipe</td>\n",
              "    </tr>\n",
              "    <tr>\n",
              "      <th>37057</th>\n",
              "      <td>0.0</td>\n",
              "      <td>2011-04-11</td>\n",
              "      <td>NaN</td>\n",
              "      <td>0</td>\n",
              "      <td>NaN</td>\n",
              "      <td>34.017087</td>\n",
              "      <td>-8.750434</td>\n",
              "      <td>Mashine</td>\n",
              "      <td>0</td>\n",
              "      <td>Rufiji</td>\n",
              "      <td>...</td>\n",
              "      <td>monthly</td>\n",
              "      <td>fluoride</td>\n",
              "      <td>fluoride</td>\n",
              "      <td>enough</td>\n",
              "      <td>enough</td>\n",
              "      <td>machine dbh</td>\n",
              "      <td>borehole</td>\n",
              "      <td>groundwater</td>\n",
              "      <td>hand pump</td>\n",
              "      <td>hand pump</td>\n",
              "    </tr>\n",
              "    <tr>\n",
              "      <th>31282</th>\n",
              "      <td>0.0</td>\n",
              "      <td>2011-03-08</td>\n",
              "      <td>Malec</td>\n",
              "      <td>0</td>\n",
              "      <td>Musa</td>\n",
              "      <td>35.861315</td>\n",
              "      <td>-6.378573</td>\n",
              "      <td>Mshoro</td>\n",
              "      <td>0</td>\n",
              "      <td>Rufiji</td>\n",
              "      <td>...</td>\n",
              "      <td>never pay</td>\n",
              "      <td>soft</td>\n",
              "      <td>good</td>\n",
              "      <td>insufficient</td>\n",
              "      <td>insufficient</td>\n",
              "      <td>shallow well</td>\n",
              "      <td>shallow well</td>\n",
              "      <td>groundwater</td>\n",
              "      <td>hand pump</td>\n",
              "      <td>hand pump</td>\n",
              "    </tr>\n",
              "    <tr>\n",
              "      <th>26348</th>\n",
              "      <td>0.0</td>\n",
              "      <td>2011-03-23</td>\n",
              "      <td>World Bank</td>\n",
              "      <td>191</td>\n",
              "      <td>World</td>\n",
              "      <td>38.104048</td>\n",
              "      <td>-6.747464</td>\n",
              "      <td>Kwa Mzee Lugawa</td>\n",
              "      <td>0</td>\n",
              "      <td>Wami / Ruvu</td>\n",
              "      <td>...</td>\n",
              "      <td>on failure</td>\n",
              "      <td>salty</td>\n",
              "      <td>salty</td>\n",
              "      <td>enough</td>\n",
              "      <td>enough</td>\n",
              "      <td>shallow well</td>\n",
              "      <td>shallow well</td>\n",
              "      <td>groundwater</td>\n",
              "      <td>hand pump</td>\n",
              "      <td>hand pump</td>\n",
              "    </tr>\n",
              "  </tbody>\n",
              "</table>\n",
              "<p>5 rows × 39 columns</p>\n",
              "</div>\n",
              "      <button class=\"colab-df-convert\" onclick=\"convertToInteractive('df-28d145b1-b23c-46d4-a967-1d73183b608b')\"\n",
              "              title=\"Convert this dataframe to an interactive table.\"\n",
              "              style=\"display:none;\">\n",
              "        \n",
              "  <svg xmlns=\"http://www.w3.org/2000/svg\" height=\"24px\"viewBox=\"0 0 24 24\"\n",
              "       width=\"24px\">\n",
              "    <path d=\"M0 0h24v24H0V0z\" fill=\"none\"/>\n",
              "    <path d=\"M18.56 5.44l.94 2.06.94-2.06 2.06-.94-2.06-.94-.94-2.06-.94 2.06-2.06.94zm-11 1L8.5 8.5l.94-2.06 2.06-.94-2.06-.94L8.5 2.5l-.94 2.06-2.06.94zm10 10l.94 2.06.94-2.06 2.06-.94-2.06-.94-.94-2.06-.94 2.06-2.06.94z\"/><path d=\"M17.41 7.96l-1.37-1.37c-.4-.4-.92-.59-1.43-.59-.52 0-1.04.2-1.43.59L10.3 9.45l-7.72 7.72c-.78.78-.78 2.05 0 2.83L4 21.41c.39.39.9.59 1.41.59.51 0 1.02-.2 1.41-.59l7.78-7.78 2.81-2.81c.8-.78.8-2.07 0-2.86zM5.41 20L4 18.59l7.72-7.72 1.47 1.35L5.41 20z\"/>\n",
              "  </svg>\n",
              "      </button>\n",
              "      \n",
              "  <style>\n",
              "    .colab-df-container {\n",
              "      display:flex;\n",
              "      flex-wrap:wrap;\n",
              "      gap: 12px;\n",
              "    }\n",
              "\n",
              "    .colab-df-convert {\n",
              "      background-color: #E8F0FE;\n",
              "      border: none;\n",
              "      border-radius: 50%;\n",
              "      cursor: pointer;\n",
              "      display: none;\n",
              "      fill: #1967D2;\n",
              "      height: 32px;\n",
              "      padding: 0 0 0 0;\n",
              "      width: 32px;\n",
              "    }\n",
              "\n",
              "    .colab-df-convert:hover {\n",
              "      background-color: #E2EBFA;\n",
              "      box-shadow: 0px 1px 2px rgba(60, 64, 67, 0.3), 0px 1px 3px 1px rgba(60, 64, 67, 0.15);\n",
              "      fill: #174EA6;\n",
              "    }\n",
              "\n",
              "    [theme=dark] .colab-df-convert {\n",
              "      background-color: #3B4455;\n",
              "      fill: #D2E3FC;\n",
              "    }\n",
              "\n",
              "    [theme=dark] .colab-df-convert:hover {\n",
              "      background-color: #434B5C;\n",
              "      box-shadow: 0px 1px 3px 1px rgba(0, 0, 0, 0.15);\n",
              "      filter: drop-shadow(0px 1px 2px rgba(0, 0, 0, 0.3));\n",
              "      fill: #FFFFFF;\n",
              "    }\n",
              "  </style>\n",
              "\n",
              "      <script>\n",
              "        const buttonEl =\n",
              "          document.querySelector('#df-28d145b1-b23c-46d4-a967-1d73183b608b button.colab-df-convert');\n",
              "        buttonEl.style.display =\n",
              "          google.colab.kernel.accessAllowed ? 'block' : 'none';\n",
              "\n",
              "        async function convertToInteractive(key) {\n",
              "          const element = document.querySelector('#df-28d145b1-b23c-46d4-a967-1d73183b608b');\n",
              "          const dataTable =\n",
              "            await google.colab.kernel.invokeFunction('convertToInteractive',\n",
              "                                                     [key], {});\n",
              "          if (!dataTable) return;\n",
              "\n",
              "          const docLinkHtml = 'Like what you see? Visit the ' +\n",
              "            '<a target=\"_blank\" href=https://colab.research.google.com/notebooks/data_table.ipynb>data table notebook</a>'\n",
              "            + ' to learn more about interactive tables.';\n",
              "          element.innerHTML = '';\n",
              "          dataTable['output_type'] = 'display_data';\n",
              "          await google.colab.output.renderOutput(dataTable, element);\n",
              "          const docLink = document.createElement('div');\n",
              "          docLink.innerHTML = docLinkHtml;\n",
              "          element.appendChild(docLink);\n",
              "        }\n",
              "      </script>\n",
              "    </div>\n",
              "  </div>\n",
              "  "
            ]
          },
          "metadata": {},
          "execution_count": 28
        }
      ]
    },
    {
      "cell_type": "code",
      "source": [
        "#Preview of the train_labels dataset\n",
        "\n",
        "train_labels.head()"
      ],
      "metadata": {
        "colab": {
          "base_uri": "https://localhost:8080/",
          "height": 238
        },
        "id": "bt9TZYR7aFmA",
        "outputId": "5df22d94-e409-473f-ebf7-018529b6544e"
      },
      "execution_count": 29,
      "outputs": [
        {
          "output_type": "execute_result",
          "data": {
            "text/plain": [
              "         status_group\n",
              "id                   \n",
              "69572      functional\n",
              "8776       functional\n",
              "34310      functional\n",
              "67743  non functional\n",
              "19728      functional"
            ],
            "text/html": [
              "\n",
              "  <div id=\"df-611e11e6-a477-4e1c-9fa8-ec6cd8647635\">\n",
              "    <div class=\"colab-df-container\">\n",
              "      <div>\n",
              "<style scoped>\n",
              "    .dataframe tbody tr th:only-of-type {\n",
              "        vertical-align: middle;\n",
              "    }\n",
              "\n",
              "    .dataframe tbody tr th {\n",
              "        vertical-align: top;\n",
              "    }\n",
              "\n",
              "    .dataframe thead th {\n",
              "        text-align: right;\n",
              "    }\n",
              "</style>\n",
              "<table border=\"1\" class=\"dataframe\">\n",
              "  <thead>\n",
              "    <tr style=\"text-align: right;\">\n",
              "      <th></th>\n",
              "      <th>status_group</th>\n",
              "    </tr>\n",
              "    <tr>\n",
              "      <th>id</th>\n",
              "      <th></th>\n",
              "    </tr>\n",
              "  </thead>\n",
              "  <tbody>\n",
              "    <tr>\n",
              "      <th>69572</th>\n",
              "      <td>functional</td>\n",
              "    </tr>\n",
              "    <tr>\n",
              "      <th>8776</th>\n",
              "      <td>functional</td>\n",
              "    </tr>\n",
              "    <tr>\n",
              "      <th>34310</th>\n",
              "      <td>functional</td>\n",
              "    </tr>\n",
              "    <tr>\n",
              "      <th>67743</th>\n",
              "      <td>non functional</td>\n",
              "    </tr>\n",
              "    <tr>\n",
              "      <th>19728</th>\n",
              "      <td>functional</td>\n",
              "    </tr>\n",
              "  </tbody>\n",
              "</table>\n",
              "</div>\n",
              "      <button class=\"colab-df-convert\" onclick=\"convertToInteractive('df-611e11e6-a477-4e1c-9fa8-ec6cd8647635')\"\n",
              "              title=\"Convert this dataframe to an interactive table.\"\n",
              "              style=\"display:none;\">\n",
              "        \n",
              "  <svg xmlns=\"http://www.w3.org/2000/svg\" height=\"24px\"viewBox=\"0 0 24 24\"\n",
              "       width=\"24px\">\n",
              "    <path d=\"M0 0h24v24H0V0z\" fill=\"none\"/>\n",
              "    <path d=\"M18.56 5.44l.94 2.06.94-2.06 2.06-.94-2.06-.94-.94-2.06-.94 2.06-2.06.94zm-11 1L8.5 8.5l.94-2.06 2.06-.94-2.06-.94L8.5 2.5l-.94 2.06-2.06.94zm10 10l.94 2.06.94-2.06 2.06-.94-2.06-.94-.94-2.06-.94 2.06-2.06.94z\"/><path d=\"M17.41 7.96l-1.37-1.37c-.4-.4-.92-.59-1.43-.59-.52 0-1.04.2-1.43.59L10.3 9.45l-7.72 7.72c-.78.78-.78 2.05 0 2.83L4 21.41c.39.39.9.59 1.41.59.51 0 1.02-.2 1.41-.59l7.78-7.78 2.81-2.81c.8-.78.8-2.07 0-2.86zM5.41 20L4 18.59l7.72-7.72 1.47 1.35L5.41 20z\"/>\n",
              "  </svg>\n",
              "      </button>\n",
              "      \n",
              "  <style>\n",
              "    .colab-df-container {\n",
              "      display:flex;\n",
              "      flex-wrap:wrap;\n",
              "      gap: 12px;\n",
              "    }\n",
              "\n",
              "    .colab-df-convert {\n",
              "      background-color: #E8F0FE;\n",
              "      border: none;\n",
              "      border-radius: 50%;\n",
              "      cursor: pointer;\n",
              "      display: none;\n",
              "      fill: #1967D2;\n",
              "      height: 32px;\n",
              "      padding: 0 0 0 0;\n",
              "      width: 32px;\n",
              "    }\n",
              "\n",
              "    .colab-df-convert:hover {\n",
              "      background-color: #E2EBFA;\n",
              "      box-shadow: 0px 1px 2px rgba(60, 64, 67, 0.3), 0px 1px 3px 1px rgba(60, 64, 67, 0.15);\n",
              "      fill: #174EA6;\n",
              "    }\n",
              "\n",
              "    [theme=dark] .colab-df-convert {\n",
              "      background-color: #3B4455;\n",
              "      fill: #D2E3FC;\n",
              "    }\n",
              "\n",
              "    [theme=dark] .colab-df-convert:hover {\n",
              "      background-color: #434B5C;\n",
              "      box-shadow: 0px 1px 3px 1px rgba(0, 0, 0, 0.15);\n",
              "      filter: drop-shadow(0px 1px 2px rgba(0, 0, 0, 0.3));\n",
              "      fill: #FFFFFF;\n",
              "    }\n",
              "  </style>\n",
              "\n",
              "      <script>\n",
              "        const buttonEl =\n",
              "          document.querySelector('#df-611e11e6-a477-4e1c-9fa8-ec6cd8647635 button.colab-df-convert');\n",
              "        buttonEl.style.display =\n",
              "          google.colab.kernel.accessAllowed ? 'block' : 'none';\n",
              "\n",
              "        async function convertToInteractive(key) {\n",
              "          const element = document.querySelector('#df-611e11e6-a477-4e1c-9fa8-ec6cd8647635');\n",
              "          const dataTable =\n",
              "            await google.colab.kernel.invokeFunction('convertToInteractive',\n",
              "                                                     [key], {});\n",
              "          if (!dataTable) return;\n",
              "\n",
              "          const docLinkHtml = 'Like what you see? Visit the ' +\n",
              "            '<a target=\"_blank\" href=https://colab.research.google.com/notebooks/data_table.ipynb>data table notebook</a>'\n",
              "            + ' to learn more about interactive tables.';\n",
              "          element.innerHTML = '';\n",
              "          dataTable['output_type'] = 'display_data';\n",
              "          await google.colab.output.renderOutput(dataTable, element);\n",
              "          const docLink = document.createElement('div');\n",
              "          docLink.innerHTML = docLinkHtml;\n",
              "          element.appendChild(docLink);\n",
              "        }\n",
              "      </script>\n",
              "    </div>\n",
              "  </div>\n",
              "  "
            ]
          },
          "metadata": {},
          "execution_count": 29
        }
      ]
    },
    {
      "cell_type": "code",
      "source": [
        "#Preview of the tail train_labels dataset\n",
        "\n",
        "train_labels.tail()\n"
      ],
      "metadata": {
        "colab": {
          "base_uri": "https://localhost:8080/",
          "height": 238
        },
        "id": "eBTTv5XDaFgf",
        "outputId": "cc05323a-4752-43b2-c106-4e8ab4c0671f"
      },
      "execution_count": 30,
      "outputs": [
        {
          "output_type": "execute_result",
          "data": {
            "text/plain": [
              "      status_group\n",
              "id                \n",
              "60739   functional\n",
              "27263   functional\n",
              "37057   functional\n",
              "31282   functional\n",
              "26348   functional"
            ],
            "text/html": [
              "\n",
              "  <div id=\"df-acf4aa77-263c-4674-bff7-53b95b153822\">\n",
              "    <div class=\"colab-df-container\">\n",
              "      <div>\n",
              "<style scoped>\n",
              "    .dataframe tbody tr th:only-of-type {\n",
              "        vertical-align: middle;\n",
              "    }\n",
              "\n",
              "    .dataframe tbody tr th {\n",
              "        vertical-align: top;\n",
              "    }\n",
              "\n",
              "    .dataframe thead th {\n",
              "        text-align: right;\n",
              "    }\n",
              "</style>\n",
              "<table border=\"1\" class=\"dataframe\">\n",
              "  <thead>\n",
              "    <tr style=\"text-align: right;\">\n",
              "      <th></th>\n",
              "      <th>status_group</th>\n",
              "    </tr>\n",
              "    <tr>\n",
              "      <th>id</th>\n",
              "      <th></th>\n",
              "    </tr>\n",
              "  </thead>\n",
              "  <tbody>\n",
              "    <tr>\n",
              "      <th>60739</th>\n",
              "      <td>functional</td>\n",
              "    </tr>\n",
              "    <tr>\n",
              "      <th>27263</th>\n",
              "      <td>functional</td>\n",
              "    </tr>\n",
              "    <tr>\n",
              "      <th>37057</th>\n",
              "      <td>functional</td>\n",
              "    </tr>\n",
              "    <tr>\n",
              "      <th>31282</th>\n",
              "      <td>functional</td>\n",
              "    </tr>\n",
              "    <tr>\n",
              "      <th>26348</th>\n",
              "      <td>functional</td>\n",
              "    </tr>\n",
              "  </tbody>\n",
              "</table>\n",
              "</div>\n",
              "      <button class=\"colab-df-convert\" onclick=\"convertToInteractive('df-acf4aa77-263c-4674-bff7-53b95b153822')\"\n",
              "              title=\"Convert this dataframe to an interactive table.\"\n",
              "              style=\"display:none;\">\n",
              "        \n",
              "  <svg xmlns=\"http://www.w3.org/2000/svg\" height=\"24px\"viewBox=\"0 0 24 24\"\n",
              "       width=\"24px\">\n",
              "    <path d=\"M0 0h24v24H0V0z\" fill=\"none\"/>\n",
              "    <path d=\"M18.56 5.44l.94 2.06.94-2.06 2.06-.94-2.06-.94-.94-2.06-.94 2.06-2.06.94zm-11 1L8.5 8.5l.94-2.06 2.06-.94-2.06-.94L8.5 2.5l-.94 2.06-2.06.94zm10 10l.94 2.06.94-2.06 2.06-.94-2.06-.94-.94-2.06-.94 2.06-2.06.94z\"/><path d=\"M17.41 7.96l-1.37-1.37c-.4-.4-.92-.59-1.43-.59-.52 0-1.04.2-1.43.59L10.3 9.45l-7.72 7.72c-.78.78-.78 2.05 0 2.83L4 21.41c.39.39.9.59 1.41.59.51 0 1.02-.2 1.41-.59l7.78-7.78 2.81-2.81c.8-.78.8-2.07 0-2.86zM5.41 20L4 18.59l7.72-7.72 1.47 1.35L5.41 20z\"/>\n",
              "  </svg>\n",
              "      </button>\n",
              "      \n",
              "  <style>\n",
              "    .colab-df-container {\n",
              "      display:flex;\n",
              "      flex-wrap:wrap;\n",
              "      gap: 12px;\n",
              "    }\n",
              "\n",
              "    .colab-df-convert {\n",
              "      background-color: #E8F0FE;\n",
              "      border: none;\n",
              "      border-radius: 50%;\n",
              "      cursor: pointer;\n",
              "      display: none;\n",
              "      fill: #1967D2;\n",
              "      height: 32px;\n",
              "      padding: 0 0 0 0;\n",
              "      width: 32px;\n",
              "    }\n",
              "\n",
              "    .colab-df-convert:hover {\n",
              "      background-color: #E2EBFA;\n",
              "      box-shadow: 0px 1px 2px rgba(60, 64, 67, 0.3), 0px 1px 3px 1px rgba(60, 64, 67, 0.15);\n",
              "      fill: #174EA6;\n",
              "    }\n",
              "\n",
              "    [theme=dark] .colab-df-convert {\n",
              "      background-color: #3B4455;\n",
              "      fill: #D2E3FC;\n",
              "    }\n",
              "\n",
              "    [theme=dark] .colab-df-convert:hover {\n",
              "      background-color: #434B5C;\n",
              "      box-shadow: 0px 1px 3px 1px rgba(0, 0, 0, 0.15);\n",
              "      filter: drop-shadow(0px 1px 2px rgba(0, 0, 0, 0.3));\n",
              "      fill: #FFFFFF;\n",
              "    }\n",
              "  </style>\n",
              "\n",
              "      <script>\n",
              "        const buttonEl =\n",
              "          document.querySelector('#df-acf4aa77-263c-4674-bff7-53b95b153822 button.colab-df-convert');\n",
              "        buttonEl.style.display =\n",
              "          google.colab.kernel.accessAllowed ? 'block' : 'none';\n",
              "\n",
              "        async function convertToInteractive(key) {\n",
              "          const element = document.querySelector('#df-acf4aa77-263c-4674-bff7-53b95b153822');\n",
              "          const dataTable =\n",
              "            await google.colab.kernel.invokeFunction('convertToInteractive',\n",
              "                                                     [key], {});\n",
              "          if (!dataTable) return;\n",
              "\n",
              "          const docLinkHtml = 'Like what you see? Visit the ' +\n",
              "            '<a target=\"_blank\" href=https://colab.research.google.com/notebooks/data_table.ipynb>data table notebook</a>'\n",
              "            + ' to learn more about interactive tables.';\n",
              "          element.innerHTML = '';\n",
              "          dataTable['output_type'] = 'display_data';\n",
              "          await google.colab.output.renderOutput(dataTable, element);\n",
              "          const docLink = document.createElement('div');\n",
              "          docLink.innerHTML = docLinkHtml;\n",
              "          element.appendChild(docLink);\n",
              "        }\n",
              "      </script>\n",
              "    </div>\n",
              "  </div>\n",
              "  "
            ]
          },
          "metadata": {},
          "execution_count": 30
        }
      ]
    },
    {
      "cell_type": "code",
      "source": [
        "#confirm if the id in features and labels are the same to join the two into a single dataframe\n",
        "\n",
        "assert train_features.index.equals(train_labels.index)"
      ],
      "metadata": {
        "id": "97Ol0BELaFYv"
      },
      "execution_count": 31,
      "outputs": []
    },
    {
      "cell_type": "code",
      "source": [
        "#Join the two for ease in data wrangling\n",
        "\n",
        "data = train_features.merge(train_labels, how = 'inner', on = 'id')\n",
        "data.head()"
      ],
      "metadata": {
        "colab": {
          "base_uri": "https://localhost:8080/",
          "height": 452
        },
        "id": "8owLFtvFaFJa",
        "outputId": "0a97518e-cd7b-42bb-fa58-7f43c31f2da0"
      },
      "execution_count": 32,
      "outputs": [
        {
          "output_type": "execute_result",
          "data": {
            "text/plain": [
              "       amount_tsh date_recorded        funder  gps_height     installer  \\\n",
              "id                                                                        \n",
              "69572      6000.0    2011-03-14         Roman        1390         Roman   \n",
              "8776          0.0    2013-03-06       Grumeti        1399       GRUMETI   \n",
              "34310        25.0    2013-02-25  Lottery Club         686  World vision   \n",
              "67743         0.0    2013-01-28        Unicef         263        UNICEF   \n",
              "19728         0.0    2011-07-13   Action In A           0       Artisan   \n",
              "\n",
              "       longitude   latitude              wpt_name  num_private  \\\n",
              "id                                                               \n",
              "69572  34.938093  -9.856322                  none            0   \n",
              "8776   34.698766  -2.147466              Zahanati            0   \n",
              "34310  37.460664  -3.821329           Kwa Mahundi            0   \n",
              "67743  38.486161 -11.155298  Zahanati Ya Nanyumbu            0   \n",
              "19728  31.130847  -1.825359               Shuleni            0   \n",
              "\n",
              "                         basin  ... water_quality quality_group      quantity  \\\n",
              "id                              ...                                             \n",
              "69572               Lake Nyasa  ...          soft          good        enough   \n",
              "8776             Lake Victoria  ...          soft          good  insufficient   \n",
              "34310                  Pangani  ...          soft          good        enough   \n",
              "67743  Ruvuma / Southern Coast  ...          soft          good           dry   \n",
              "19728            Lake Victoria  ...          soft          good      seasonal   \n",
              "\n",
              "       quantity_group                source           source_type  \\\n",
              "id                                                                  \n",
              "69572          enough                spring                spring   \n",
              "8776     insufficient  rainwater harvesting  rainwater harvesting   \n",
              "34310          enough                   dam                   dam   \n",
              "67743             dry           machine dbh              borehole   \n",
              "19728        seasonal  rainwater harvesting  rainwater harvesting   \n",
              "\n",
              "       source_class              waterpoint_type waterpoint_type_group  \\\n",
              "id                                                                       \n",
              "69572   groundwater           communal standpipe    communal standpipe   \n",
              "8776        surface           communal standpipe    communal standpipe   \n",
              "34310       surface  communal standpipe multiple    communal standpipe   \n",
              "67743   groundwater  communal standpipe multiple    communal standpipe   \n",
              "19728       surface           communal standpipe    communal standpipe   \n",
              "\n",
              "         status_group  \n",
              "id                     \n",
              "69572      functional  \n",
              "8776       functional  \n",
              "34310      functional  \n",
              "67743  non functional  \n",
              "19728      functional  \n",
              "\n",
              "[5 rows x 40 columns]"
            ],
            "text/html": [
              "\n",
              "  <div id=\"df-2950cbc5-b597-4b0e-8eb9-8ec9f0f8e79e\">\n",
              "    <div class=\"colab-df-container\">\n",
              "      <div>\n",
              "<style scoped>\n",
              "    .dataframe tbody tr th:only-of-type {\n",
              "        vertical-align: middle;\n",
              "    }\n",
              "\n",
              "    .dataframe tbody tr th {\n",
              "        vertical-align: top;\n",
              "    }\n",
              "\n",
              "    .dataframe thead th {\n",
              "        text-align: right;\n",
              "    }\n",
              "</style>\n",
              "<table border=\"1\" class=\"dataframe\">\n",
              "  <thead>\n",
              "    <tr style=\"text-align: right;\">\n",
              "      <th></th>\n",
              "      <th>amount_tsh</th>\n",
              "      <th>date_recorded</th>\n",
              "      <th>funder</th>\n",
              "      <th>gps_height</th>\n",
              "      <th>installer</th>\n",
              "      <th>longitude</th>\n",
              "      <th>latitude</th>\n",
              "      <th>wpt_name</th>\n",
              "      <th>num_private</th>\n",
              "      <th>basin</th>\n",
              "      <th>...</th>\n",
              "      <th>water_quality</th>\n",
              "      <th>quality_group</th>\n",
              "      <th>quantity</th>\n",
              "      <th>quantity_group</th>\n",
              "      <th>source</th>\n",
              "      <th>source_type</th>\n",
              "      <th>source_class</th>\n",
              "      <th>waterpoint_type</th>\n",
              "      <th>waterpoint_type_group</th>\n",
              "      <th>status_group</th>\n",
              "    </tr>\n",
              "    <tr>\n",
              "      <th>id</th>\n",
              "      <th></th>\n",
              "      <th></th>\n",
              "      <th></th>\n",
              "      <th></th>\n",
              "      <th></th>\n",
              "      <th></th>\n",
              "      <th></th>\n",
              "      <th></th>\n",
              "      <th></th>\n",
              "      <th></th>\n",
              "      <th></th>\n",
              "      <th></th>\n",
              "      <th></th>\n",
              "      <th></th>\n",
              "      <th></th>\n",
              "      <th></th>\n",
              "      <th></th>\n",
              "      <th></th>\n",
              "      <th></th>\n",
              "      <th></th>\n",
              "      <th></th>\n",
              "    </tr>\n",
              "  </thead>\n",
              "  <tbody>\n",
              "    <tr>\n",
              "      <th>69572</th>\n",
              "      <td>6000.0</td>\n",
              "      <td>2011-03-14</td>\n",
              "      <td>Roman</td>\n",
              "      <td>1390</td>\n",
              "      <td>Roman</td>\n",
              "      <td>34.938093</td>\n",
              "      <td>-9.856322</td>\n",
              "      <td>none</td>\n",
              "      <td>0</td>\n",
              "      <td>Lake Nyasa</td>\n",
              "      <td>...</td>\n",
              "      <td>soft</td>\n",
              "      <td>good</td>\n",
              "      <td>enough</td>\n",
              "      <td>enough</td>\n",
              "      <td>spring</td>\n",
              "      <td>spring</td>\n",
              "      <td>groundwater</td>\n",
              "      <td>communal standpipe</td>\n",
              "      <td>communal standpipe</td>\n",
              "      <td>functional</td>\n",
              "    </tr>\n",
              "    <tr>\n",
              "      <th>8776</th>\n",
              "      <td>0.0</td>\n",
              "      <td>2013-03-06</td>\n",
              "      <td>Grumeti</td>\n",
              "      <td>1399</td>\n",
              "      <td>GRUMETI</td>\n",
              "      <td>34.698766</td>\n",
              "      <td>-2.147466</td>\n",
              "      <td>Zahanati</td>\n",
              "      <td>0</td>\n",
              "      <td>Lake Victoria</td>\n",
              "      <td>...</td>\n",
              "      <td>soft</td>\n",
              "      <td>good</td>\n",
              "      <td>insufficient</td>\n",
              "      <td>insufficient</td>\n",
              "      <td>rainwater harvesting</td>\n",
              "      <td>rainwater harvesting</td>\n",
              "      <td>surface</td>\n",
              "      <td>communal standpipe</td>\n",
              "      <td>communal standpipe</td>\n",
              "      <td>functional</td>\n",
              "    </tr>\n",
              "    <tr>\n",
              "      <th>34310</th>\n",
              "      <td>25.0</td>\n",
              "      <td>2013-02-25</td>\n",
              "      <td>Lottery Club</td>\n",
              "      <td>686</td>\n",
              "      <td>World vision</td>\n",
              "      <td>37.460664</td>\n",
              "      <td>-3.821329</td>\n",
              "      <td>Kwa Mahundi</td>\n",
              "      <td>0</td>\n",
              "      <td>Pangani</td>\n",
              "      <td>...</td>\n",
              "      <td>soft</td>\n",
              "      <td>good</td>\n",
              "      <td>enough</td>\n",
              "      <td>enough</td>\n",
              "      <td>dam</td>\n",
              "      <td>dam</td>\n",
              "      <td>surface</td>\n",
              "      <td>communal standpipe multiple</td>\n",
              "      <td>communal standpipe</td>\n",
              "      <td>functional</td>\n",
              "    </tr>\n",
              "    <tr>\n",
              "      <th>67743</th>\n",
              "      <td>0.0</td>\n",
              "      <td>2013-01-28</td>\n",
              "      <td>Unicef</td>\n",
              "      <td>263</td>\n",
              "      <td>UNICEF</td>\n",
              "      <td>38.486161</td>\n",
              "      <td>-11.155298</td>\n",
              "      <td>Zahanati Ya Nanyumbu</td>\n",
              "      <td>0</td>\n",
              "      <td>Ruvuma / Southern Coast</td>\n",
              "      <td>...</td>\n",
              "      <td>soft</td>\n",
              "      <td>good</td>\n",
              "      <td>dry</td>\n",
              "      <td>dry</td>\n",
              "      <td>machine dbh</td>\n",
              "      <td>borehole</td>\n",
              "      <td>groundwater</td>\n",
              "      <td>communal standpipe multiple</td>\n",
              "      <td>communal standpipe</td>\n",
              "      <td>non functional</td>\n",
              "    </tr>\n",
              "    <tr>\n",
              "      <th>19728</th>\n",
              "      <td>0.0</td>\n",
              "      <td>2011-07-13</td>\n",
              "      <td>Action In A</td>\n",
              "      <td>0</td>\n",
              "      <td>Artisan</td>\n",
              "      <td>31.130847</td>\n",
              "      <td>-1.825359</td>\n",
              "      <td>Shuleni</td>\n",
              "      <td>0</td>\n",
              "      <td>Lake Victoria</td>\n",
              "      <td>...</td>\n",
              "      <td>soft</td>\n",
              "      <td>good</td>\n",
              "      <td>seasonal</td>\n",
              "      <td>seasonal</td>\n",
              "      <td>rainwater harvesting</td>\n",
              "      <td>rainwater harvesting</td>\n",
              "      <td>surface</td>\n",
              "      <td>communal standpipe</td>\n",
              "      <td>communal standpipe</td>\n",
              "      <td>functional</td>\n",
              "    </tr>\n",
              "  </tbody>\n",
              "</table>\n",
              "<p>5 rows × 40 columns</p>\n",
              "</div>\n",
              "      <button class=\"colab-df-convert\" onclick=\"convertToInteractive('df-2950cbc5-b597-4b0e-8eb9-8ec9f0f8e79e')\"\n",
              "              title=\"Convert this dataframe to an interactive table.\"\n",
              "              style=\"display:none;\">\n",
              "        \n",
              "  <svg xmlns=\"http://www.w3.org/2000/svg\" height=\"24px\"viewBox=\"0 0 24 24\"\n",
              "       width=\"24px\">\n",
              "    <path d=\"M0 0h24v24H0V0z\" fill=\"none\"/>\n",
              "    <path d=\"M18.56 5.44l.94 2.06.94-2.06 2.06-.94-2.06-.94-.94-2.06-.94 2.06-2.06.94zm-11 1L8.5 8.5l.94-2.06 2.06-.94-2.06-.94L8.5 2.5l-.94 2.06-2.06.94zm10 10l.94 2.06.94-2.06 2.06-.94-2.06-.94-.94-2.06-.94 2.06-2.06.94z\"/><path d=\"M17.41 7.96l-1.37-1.37c-.4-.4-.92-.59-1.43-.59-.52 0-1.04.2-1.43.59L10.3 9.45l-7.72 7.72c-.78.78-.78 2.05 0 2.83L4 21.41c.39.39.9.59 1.41.59.51 0 1.02-.2 1.41-.59l7.78-7.78 2.81-2.81c.8-.78.8-2.07 0-2.86zM5.41 20L4 18.59l7.72-7.72 1.47 1.35L5.41 20z\"/>\n",
              "  </svg>\n",
              "      </button>\n",
              "      \n",
              "  <style>\n",
              "    .colab-df-container {\n",
              "      display:flex;\n",
              "      flex-wrap:wrap;\n",
              "      gap: 12px;\n",
              "    }\n",
              "\n",
              "    .colab-df-convert {\n",
              "      background-color: #E8F0FE;\n",
              "      border: none;\n",
              "      border-radius: 50%;\n",
              "      cursor: pointer;\n",
              "      display: none;\n",
              "      fill: #1967D2;\n",
              "      height: 32px;\n",
              "      padding: 0 0 0 0;\n",
              "      width: 32px;\n",
              "    }\n",
              "\n",
              "    .colab-df-convert:hover {\n",
              "      background-color: #E2EBFA;\n",
              "      box-shadow: 0px 1px 2px rgba(60, 64, 67, 0.3), 0px 1px 3px 1px rgba(60, 64, 67, 0.15);\n",
              "      fill: #174EA6;\n",
              "    }\n",
              "\n",
              "    [theme=dark] .colab-df-convert {\n",
              "      background-color: #3B4455;\n",
              "      fill: #D2E3FC;\n",
              "    }\n",
              "\n",
              "    [theme=dark] .colab-df-convert:hover {\n",
              "      background-color: #434B5C;\n",
              "      box-shadow: 0px 1px 3px 1px rgba(0, 0, 0, 0.15);\n",
              "      filter: drop-shadow(0px 1px 2px rgba(0, 0, 0, 0.3));\n",
              "      fill: #FFFFFF;\n",
              "    }\n",
              "  </style>\n",
              "\n",
              "      <script>\n",
              "        const buttonEl =\n",
              "          document.querySelector('#df-2950cbc5-b597-4b0e-8eb9-8ec9f0f8e79e button.colab-df-convert');\n",
              "        buttonEl.style.display =\n",
              "          google.colab.kernel.accessAllowed ? 'block' : 'none';\n",
              "\n",
              "        async function convertToInteractive(key) {\n",
              "          const element = document.querySelector('#df-2950cbc5-b597-4b0e-8eb9-8ec9f0f8e79e');\n",
              "          const dataTable =\n",
              "            await google.colab.kernel.invokeFunction('convertToInteractive',\n",
              "                                                     [key], {});\n",
              "          if (!dataTable) return;\n",
              "\n",
              "          const docLinkHtml = 'Like what you see? Visit the ' +\n",
              "            '<a target=\"_blank\" href=https://colab.research.google.com/notebooks/data_table.ipynb>data table notebook</a>'\n",
              "            + ' to learn more about interactive tables.';\n",
              "          element.innerHTML = '';\n",
              "          dataTable['output_type'] = 'display_data';\n",
              "          await google.colab.output.renderOutput(dataTable, element);\n",
              "          const docLink = document.createElement('div');\n",
              "          docLink.innerHTML = docLinkHtml;\n",
              "          element.appendChild(docLink);\n",
              "        }\n",
              "      </script>\n",
              "    </div>\n",
              "  </div>\n",
              "  "
            ]
          },
          "metadata": {},
          "execution_count": 32
        }
      ]
    },
    {
      "cell_type": "code",
      "source": [
        "#Checking the number of rows and columns\n",
        "data.shape"
      ],
      "metadata": {
        "colab": {
          "base_uri": "https://localhost:8080/"
        },
        "id": "ofQg9MANGoVf",
        "outputId": "74b74fb4-736a-4fdc-be37-d269d585dcc5"
      },
      "execution_count": 33,
      "outputs": [
        {
          "output_type": "execute_result",
          "data": {
            "text/plain": [
              "(59400, 40)"
            ]
          },
          "metadata": {},
          "execution_count": 33
        }
      ]
    },
    {
      "cell_type": "code",
      "source": [
        "#Checking columns and their datatypes\n",
        "data.info()"
      ],
      "metadata": {
        "colab": {
          "base_uri": "https://localhost:8080/"
        },
        "id": "XxVwxWsmG0TM",
        "outputId": "c51c5b12-c0e3-4e5d-8c95-1272be676b1e"
      },
      "execution_count": 34,
      "outputs": [
        {
          "output_type": "stream",
          "name": "stdout",
          "text": [
            "<class 'pandas.core.frame.DataFrame'>\n",
            "Int64Index: 59400 entries, 69572 to 26348\n",
            "Data columns (total 40 columns):\n",
            " #   Column                 Non-Null Count  Dtype  \n",
            "---  ------                 --------------  -----  \n",
            " 0   amount_tsh             59400 non-null  float64\n",
            " 1   date_recorded          59400 non-null  object \n",
            " 2   funder                 55765 non-null  object \n",
            " 3   gps_height             59400 non-null  int64  \n",
            " 4   installer              55745 non-null  object \n",
            " 5   longitude              59400 non-null  float64\n",
            " 6   latitude               59400 non-null  float64\n",
            " 7   wpt_name               59400 non-null  object \n",
            " 8   num_private            59400 non-null  int64  \n",
            " 9   basin                  59400 non-null  object \n",
            " 10  subvillage             59029 non-null  object \n",
            " 11  region                 59400 non-null  object \n",
            " 12  region_code            59400 non-null  int64  \n",
            " 13  district_code          59400 non-null  int64  \n",
            " 14  lga                    59400 non-null  object \n",
            " 15  ward                   59400 non-null  object \n",
            " 16  population             59400 non-null  int64  \n",
            " 17  public_meeting         56066 non-null  object \n",
            " 18  recorded_by            59400 non-null  object \n",
            " 19  scheme_management      55523 non-null  object \n",
            " 20  scheme_name            31234 non-null  object \n",
            " 21  permit                 56344 non-null  object \n",
            " 22  construction_year      59400 non-null  int64  \n",
            " 23  extraction_type        59400 non-null  object \n",
            " 24  extraction_type_group  59400 non-null  object \n",
            " 25  extraction_type_class  59400 non-null  object \n",
            " 26  management             59400 non-null  object \n",
            " 27  management_group       59400 non-null  object \n",
            " 28  payment                59400 non-null  object \n",
            " 29  payment_type           59400 non-null  object \n",
            " 30  water_quality          59400 non-null  object \n",
            " 31  quality_group          59400 non-null  object \n",
            " 32  quantity               59400 non-null  object \n",
            " 33  quantity_group         59400 non-null  object \n",
            " 34  source                 59400 non-null  object \n",
            " 35  source_type            59400 non-null  object \n",
            " 36  source_class           59400 non-null  object \n",
            " 37  waterpoint_type        59400 non-null  object \n",
            " 38  waterpoint_type_group  59400 non-null  object \n",
            " 39  status_group           59400 non-null  object \n",
            "dtypes: float64(3), int64(6), object(31)\n",
            "memory usage: 18.6+ MB\n"
          ]
        }
      ]
    },
    {
      "cell_type": "markdown",
      "source": [
        "# **Data Wrangling**"
      ],
      "metadata": {
        "id": "zRp5IQnDIc1H"
      }
    },
    {
      "cell_type": "code",
      "source": [
        "#Checking for anomalies\n",
        "#iterating through all columns for unique values in the dataset\n",
        "\n",
        "for i in data.columns:\n",
        "  #to print a line in between columns\n",
        "  print('\\n')\n",
        "  print(data[i].unique())"
      ],
      "metadata": {
        "colab": {
          "base_uri": "https://localhost:8080/"
        },
        "id": "5PUvYPR1rRsm",
        "outputId": "d9d60c47-4627-4487-ec10-9b8f1a20ae3c"
      },
      "execution_count": 35,
      "outputs": [
        {
          "output_type": "stream",
          "name": "stdout",
          "text": [
            "\n",
            "\n",
            "[6.00e+03 0.00e+00 2.50e+01 2.00e+01 2.00e+02 5.00e+02 5.00e+01 4.00e+03\n",
            " 1.50e+03 6.00e+00 2.50e+02 1.00e+01 1.00e+03 1.00e+02 3.00e+01 2.00e+03\n",
            " 4.00e+02 1.20e+03 4.00e+01 3.00e+02 2.50e+04 7.50e+02 5.00e+03 6.00e+02\n",
            " 7.20e+03 2.40e+03 5.00e+00 3.60e+03 4.50e+02 4.00e+04 1.20e+04 3.00e+03\n",
            " 7.00e+00 2.00e+04 2.80e+03 2.20e+03 7.00e+01 5.50e+03 1.00e+04 2.50e+03\n",
            " 6.50e+03 5.50e+02 3.30e+01 8.00e+03 4.70e+03 7.00e+03 1.40e+04 1.30e+03\n",
            " 1.00e+05 7.00e+02 1.00e+00 6.00e+01 3.50e+02 2.00e-01 3.50e+01 3.06e+02\n",
            " 8.50e+03 1.17e+05 3.50e+03 5.20e+02 1.50e+01 6.30e+03 9.00e+03 1.50e+02\n",
            " 1.20e+05 1.38e+05 3.50e+05 4.50e+03 1.30e+04 4.50e+04 2.00e+00 1.50e+04\n",
            " 1.10e+04 5.00e+04 7.50e+03 1.63e+04 8.00e+02 1.60e+04 3.00e+04 5.30e+01\n",
            " 5.40e+03 7.00e+04 2.50e+05 2.00e+05 2.60e+04 1.80e+04 2.60e+01 5.90e+02\n",
            " 9.00e+02 9.00e+00 1.40e+03 1.70e+05 2.20e+02 3.80e+04 2.50e-01 1.20e+01\n",
            " 6.00e+04 5.90e+01]\n",
            "\n",
            "\n",
            "['2011-03-14' '2013-03-06' '2013-02-25' '2013-01-28' '2011-07-13'\n",
            " '2011-03-13' '2012-10-01' '2012-10-09' '2012-11-03' '2011-08-03'\n",
            " '2011-02-20' '2013-02-18' '2012-10-14' '2013-03-15' '2012-10-20'\n",
            " '2011-08-04' '2011-07-04' '2011-09-04' '2011-07-22' '2011-02-22'\n",
            " '2011-02-27' '2013-02-10' '2011-10-04' '2013-11-03' '2013-01-21'\n",
            " '2013-01-16' '2011-07-11' '2013-03-05' '2013-03-16' '2011-03-23'\n",
            " '2011-03-16' '2013-03-19' '2011-03-11' '2011-02-23' '2013-03-28'\n",
            " '2011-07-16' '2011-03-27' '2013-02-11' '2013-10-03' '2011-03-12'\n",
            " '2011-07-07' '2013-01-15' '2013-03-18' '2012-10-22' '2013-02-05'\n",
            " '2011-07-27' '2011-04-04' '2013-02-21' '2011-08-18' '2011-07-31'\n",
            " '2011-08-01' '2011-07-14' '2013-02-22' '2013-07-03' '2013-08-03'\n",
            " '2013-01-22' '2011-03-22' '2013-05-03' '2013-01-19' '2013-02-09'\n",
            " '2011-01-04' '2013-02-04' '2011-03-05' '2011-03-31' '2013-02-27'\n",
            " '2011-08-07' '2011-03-30' '2012-10-23' '2011-03-02' '2011-03-04'\n",
            " '2013-03-14' '2012-10-18' '2011-08-08' '2011-09-05' '2011-04-11'\n",
            " '2013-01-17' '2013-01-20' '2013-01-27' '2013-02-19' '2012-10-06'\n",
            " '2013-02-13' '2013-02-26' '2013-02-16' '2013-02-17' '2011-07-21'\n",
            " '2011-03-07' '2011-07-12' '2011-07-17' '2011-04-07' '2011-04-10'\n",
            " '2012-10-29' '2011-02-25' '2012-10-11' '2013-02-14' '2012-10-05'\n",
            " '2011-07-19' '2011-04-15' '2011-03-17' '2013-01-25' '2011-10-07'\n",
            " '2011-02-24' '2013-03-21' '2011-08-02' '2011-02-03' '2013-01-24'\n",
            " '2012-10-21' '2011-04-16' '2013-02-03' '2013-02-24' '2011-04-02'\n",
            " '2012-10-19' '2013-01-30' '2011-03-03' '2011-08-17' '2011-03-28'\n",
            " '2011-07-23' '2013-02-06' '2011-08-11' '2011-03-09' '2011-03-18'\n",
            " '2013-03-07' '2011-08-14' '2013-09-03' '2011-02-16' '2011-04-03'\n",
            " '2011-07-09' '2011-04-12' '2011-04-14' '2011-03-10' '2013-03-25'\n",
            " '2013-02-28' '2013-01-18' '2012-10-10' '2011-07-03' '2011-08-05'\n",
            " '2011-07-20' '2013-03-13' '2011-03-15' '2011-07-18' '2013-03-03'\n",
            " '2011-11-07' '2013-04-04' '2012-10-16' '2013-03-23' '2013-04-03'\n",
            " '2013-02-08' '2011-03-21' '2011-04-05' '2012-10-15' '2011-03-19'\n",
            " '2013-06-03' '2013-03-29' '2012-10-28' '2011-07-15' '2012-10-12'\n",
            " '2011-07-29' '2011-08-06' '2012-10-13' '2013-03-02' '2013-02-12'\n",
            " '2013-01-29' '2013-01-04' '2012-10-25' '2012-11-13' '2013-02-01'\n",
            " '2011-08-10' '2013-03-17' '2011-07-30' '2011-02-21' '2011-02-17'\n",
            " '2011-08-19' '2013-02-15' '2013-02-02' '2013-01-26' '2011-04-06'\n",
            " '2011-08-21' '2013-03-24' '2013-10-02' '2011-04-01' '2013-02-23'\n",
            " '2013-02-20' '2011-04-08' '2011-03-29' '2011-03-25' '2013-03-01'\n",
            " '2013-05-04' '2012-11-05' '2011-03-24' '2011-03-20' '2013-03-04'\n",
            " '2012-10-26' '2013-06-04' '2011-08-20' '2013-02-07' '2011-07-24'\n",
            " '2011-07-25' '2013-03-22' '2013-08-02' '2011-07-28' '2013-03-12'\n",
            " '2013-03-30' '2013-12-03' '2011-03-26' '2011-03-08' '2013-01-23'\n",
            " '2012-11-04' '2012-10-02' '2012-10-07' '2011-04-18' '2012-11-15'\n",
            " '2011-08-12' '2011-08-23' '2012-10-08' '2011-02-26' '2013-03-26'\n",
            " '2011-03-01' '2012-12-14' '2011-02-14' '2013-01-14' '2012-10-04'\n",
            " '2011-07-26' '2012-10-27' '2012-10-17' '2013-09-02' '2012-10-03'\n",
            " '2013-03-20' '2012-11-08' '2011-02-15' '2012-10-24' '2013-03-10'\n",
            " '2011-07-06' '2011-07-08' '2012-12-13' '2011-08-25' '2004-08-01'\n",
            " '2011-04-09' '2012-10-31' '2011-03-06' '2013-07-02' '2012-11-12'\n",
            " '2011-02-28' '2011-02-02' '2013-01-31' '2011-07-10' '2011-04-17'\n",
            " '2011-07-05' '2011-06-04' '2011-08-22' '2011-01-03' '2013-01-13'\n",
            " '2012-11-09' '2013-01-11' '2011-01-08' '2013-07-04' '2011-02-18'\n",
            " '2011-08-13' '2012-11-06' '2011-06-03' '2013-01-12' '2013-03-08'\n",
            " '2004-12-01' '2012-12-16' '2011-04-13' '2012-11-01' '2013-03-27'\n",
            " '2011-12-03' '2013-01-08' '2011-04-19' '2012-12-15' '2012-10-30'\n",
            " '2011-08-16' '2013-01-07' '2013-01-03' '2013-05-02' '2011-08-15'\n",
            " '2011-02-19' '2011-11-03' '2011-04-21' '2013-01-10' '2012-11-10'\n",
            " '2011-12-07' '2012-11-11' '2011-10-03' '2011-08-26' '2011-04-22'\n",
            " '2011-08-09' '2011-06-07' '2002-10-14' '2013-03-09' '2011-02-04'\n",
            " '2013-01-09' '2012-12-12' '2012-11-14' '2012-12-11' '2011-04-20'\n",
            " '2012-12-18' '2011-08-27' '2013-12-02' '2013-11-02' '2011-09-27'\n",
            " '2011-08-24' '2011-09-03' '2012-11-29' '2011-09-19' '2012-12-21'\n",
            " '2012-11-02' '2013-03-11' '2012-11-19' '2011-05-03' '2012-12-10'\n",
            " '2011-11-04' '2004-05-01' '2004-04-05' '2012-12-17' '2012-11-07'\n",
            " '2012-11-30' '2004-06-01' '2011-05-07' '2012-12-23' '2011-09-09'\n",
            " '2012-12-24' '2011-05-04' '2011-04-23' '2013-04-02' '2011-02-01'\n",
            " '2011-09-18' '2011-09-06' '2011-09-20' '2004-03-01' '2011-09-17'\n",
            " '2013-01-01' '2004-01-07' '2004-07-01' '2011-09-11' '2011-08-31'\n",
            " '2011-09-21' '2011-08-30' '2011-08-28' '2011-09-01' '2011-09-28'\n",
            " '2011-09-16' '2011-09-13' '2011-09-08' '2011-09-23' '2013-01-06'\n",
            " '2011-09-14' '2004-03-06' '2012-01-21' '2012-01-25' '2011-09-15'\n",
            " '2011-09-25' '2004-09-01' '2004-04-01' '2011-09-26' '2011-09-12'\n",
            " '2013-12-01']\n",
            "\n",
            "\n",
            "['Roman' 'Grumeti' 'Lottery Club' ... 'Dina' 'Brown' 'Samlo']\n",
            "\n",
            "\n",
            "[1390 1399  686 ...  -90 2091 2366]\n",
            "\n",
            "\n",
            "['Roman' 'GRUMETI' 'World vision' ... 'Dina' 'brown' 'SELEPTA']\n",
            "\n",
            "\n",
            "[34.93809275 34.6987661  37.46066446 ... 34.01708706 35.86131531\n",
            " 38.10404822]\n",
            "\n",
            "\n",
            "[-9.85632177 -2.14746569 -3.82132853 ... -8.75043433 -6.37857327\n",
            " -6.74746425]\n",
            "\n",
            "\n",
            "['none' 'Zahanati' 'Kwa Mahundi' ... 'Kwa Yahona Kuvala' 'Mshoro'\n",
            " 'Kwa Mzee Lugawa']\n",
            "\n",
            "\n",
            "[   0   39    5   45    6    3  698   32   15    7   25  102    1   93\n",
            "   14   34  120   17  213   47    8   41   80  141   20   35  131    4\n",
            "   22   11   87   61   65  136    2  180   38   62    9   16   23   42\n",
            "   24   12  668  672   58  150  280  160   50 1776   30   27   10   94\n",
            "   26  450  240  755   60  111  300   55 1402]\n",
            "\n",
            "\n",
            "['Lake Nyasa' 'Lake Victoria' 'Pangani' 'Ruvuma / Southern Coast'\n",
            " 'Internal' 'Lake Tanganyika' 'Wami / Ruvu' 'Rufiji' 'Lake Rukwa']\n",
            "\n",
            "\n",
            "['Mnyusi B' 'Nyamara' 'Majengo' ... 'Itete B' 'Maore Kati' 'Kikatanyemba']\n",
            "\n",
            "\n",
            "['Iringa' 'Mara' 'Manyara' 'Mtwara' 'Kagera' 'Tanga' 'Shinyanga' 'Tabora'\n",
            " 'Pwani' 'Ruvuma' 'Kilimanjaro' 'Rukwa' 'Mwanza' 'Kigoma' 'Lindi' 'Dodoma'\n",
            " 'Arusha' 'Mbeya' 'Singida' 'Morogoro' 'Dar es Salaam']\n",
            "\n",
            "\n",
            "[11 20 21 90 18  4 17 14 60 10  3 15 19 16 80  1  6  2 12 13  5  7 99 24\n",
            "  9  8 40]\n",
            "\n",
            "\n",
            "[ 5  2  4 63  1  8  3  6 43  7 23 33 53 62 60 30 13  0 80 67]\n",
            "\n",
            "\n",
            "['Ludewa' 'Serengeti' 'Simanjiro' 'Nanyumbu' 'Karagwe' 'Mkinga'\n",
            " 'Shinyanga Rural' 'Kahama' 'Tabora Urban' 'Mkuranga' 'Namtumbo' 'Maswa'\n",
            " 'Siha' 'Meatu' 'Sumbawanga Rural' 'Njombe' 'Ukerewe' 'Bariadi' 'Same'\n",
            " 'Kigoma Rural' 'Moshi Rural' 'Lindi Rural' 'Rombo' 'Chamwino' 'Bagamoyo'\n",
            " 'Mafia' 'Arusha Rural' 'Kyela' 'Kondoa' 'Kilolo' 'Kibondo' 'Makete'\n",
            " 'Singida Rural' 'Masasi' 'Rungwe' 'Moshi Urban' 'Geita' 'Mbulu'\n",
            " 'Bukoba Rural' 'Muheza' 'Lushoto' 'Meru' 'Iramba' 'Kilombero' 'Mbarali'\n",
            " 'Kasulu' 'Bukoba Urban' 'Korogwe' 'Bukombe' 'Morogoro Rural' 'Kishapu'\n",
            " 'Musoma Rural' 'Sengerema' 'Iringa Rural' 'Muleba' 'Dodoma Urban'\n",
            " 'Ruangwa' 'Hanang' 'Misenyi' 'Missungwi' 'Songea Rural' 'Tanga' 'Tunduru'\n",
            " 'Hai' 'Mwanga' 'Chato' 'Biharamulo' 'Ileje' 'Mpwapwa' 'Mvomero' 'Bunda'\n",
            " 'Kiteto' 'Longido' 'Urambo' 'Mbozi' 'Sikonge' 'Ilala' 'Tarime' 'Temeke'\n",
            " 'Mbeya Rural' 'Magu' 'Manyoni' 'Igunga' 'Kilosa' 'Babati' 'Chunya'\n",
            " 'Mufindi' 'Mtwara Rural' 'Ngara' 'Karatu' 'Mpanda' 'Kibaha'\n",
            " 'Singida Urban' 'Newala' 'Nzega' 'Nkasi' 'Bahi' 'Mbinga' 'Ulanga'\n",
            " 'Sumbawanga Urban' 'Morogoro Urban' 'Tandahimba' 'Kisarawe'\n",
            " 'Mtwara Urban' 'Kilwa' 'Liwale' 'Kongwa' 'Uyui' 'Rufiji' 'Kwimba'\n",
            " 'Monduli' 'Shinyanga Urban' 'Ngorongoro' 'Handeni' 'Rorya' 'Pangani'\n",
            " 'Lindi Urban' 'Nachingwea' 'Kinondoni' 'Kigoma Urban' 'Ilemela' 'Kilindi'\n",
            " 'Arusha Urban' 'Songea Urban' 'Nyamagana']\n",
            "\n",
            "\n",
            "['Mundindi' 'Natta' 'Ngorika' ... 'Chinugulu' 'Nyamtinga' 'Kinungu']\n",
            "\n",
            "\n",
            "[109 280 250 ... 845 976 788]\n",
            "\n",
            "\n",
            "[True nan False]\n",
            "\n",
            "\n",
            "['GeoData Consultants Ltd']\n",
            "\n",
            "\n",
            "['VWC' 'Other' nan 'Private operator' 'WUG' 'Water Board' 'WUA'\n",
            " 'Water authority' 'Company' 'Parastatal' 'Trust' 'SWC' 'None']\n",
            "\n",
            "\n",
            "['Roman' nan 'Nyumba ya mungu pipe scheme' ... 'BL Nsherehehe'\n",
            " 'Magati  gravity spri' 'Mtawanya']\n",
            "\n",
            "\n",
            "[False True nan]\n",
            "\n",
            "\n",
            "[1999 2010 2009 1986    0 2011 1987 1991 1978 1992 2008 1974 2000 2002\n",
            " 2004 1972 2003 1980 2007 1973 1985 1970 1995 2006 1962 2005 1997 2012\n",
            " 1996 1977 1983 1984 1990 1982 1976 1988 1989 1975 1960 1961 1998 1963\n",
            " 1971 1994 1968 1993 2001 1979 1967 2013 1969 1981 1964 1966 1965]\n",
            "\n",
            "\n",
            "['gravity' 'submersible' 'swn 80' 'nira/tanira' 'india mark ii' 'other'\n",
            " 'ksb' 'mono' 'windmill' 'afridev' 'other - rope pump' 'india mark iii'\n",
            " 'other - swn 81' 'other - play pump' 'cemo' 'climax' 'walimi'\n",
            " 'other - mkulima/shinyanga']\n",
            "\n",
            "\n",
            "['gravity' 'submersible' 'swn 80' 'nira/tanira' 'india mark ii' 'other'\n",
            " 'mono' 'wind-powered' 'afridev' 'rope pump' 'india mark iii'\n",
            " 'other handpump' 'other motorpump']\n",
            "\n",
            "\n",
            "['gravity' 'submersible' 'handpump' 'other' 'motorpump' 'wind-powered'\n",
            " 'rope pump']\n",
            "\n",
            "\n",
            "['vwc' 'wug' 'other' 'private operator' 'water board' 'wua' 'company'\n",
            " 'water authority' 'parastatal' 'unknown' 'other - school' 'trust']\n",
            "\n",
            "\n",
            "['user-group' 'other' 'commercial' 'parastatal' 'unknown']\n",
            "\n",
            "\n",
            "['pay annually' 'never pay' 'pay per bucket' 'unknown'\n",
            " 'pay when scheme fails' 'other' 'pay monthly']\n",
            "\n",
            "\n",
            "['annually' 'never pay' 'per bucket' 'unknown' 'on failure' 'other'\n",
            " 'monthly']\n",
            "\n",
            "\n",
            "['soft' 'salty' 'milky' 'unknown' 'fluoride' 'coloured' 'salty abandoned'\n",
            " 'fluoride abandoned']\n",
            "\n",
            "\n",
            "['good' 'salty' 'milky' 'unknown' 'fluoride' 'colored']\n",
            "\n",
            "\n",
            "['enough' 'insufficient' 'dry' 'seasonal' 'unknown']\n",
            "\n",
            "\n",
            "['enough' 'insufficient' 'dry' 'seasonal' 'unknown']\n",
            "\n",
            "\n",
            "['spring' 'rainwater harvesting' 'dam' 'machine dbh' 'other'\n",
            " 'shallow well' 'river' 'hand dtw' 'lake' 'unknown']\n",
            "\n",
            "\n",
            "['spring' 'rainwater harvesting' 'dam' 'borehole' 'other' 'shallow well'\n",
            " 'river/lake']\n",
            "\n",
            "\n",
            "['groundwater' 'surface' 'unknown']\n",
            "\n",
            "\n",
            "['communal standpipe' 'communal standpipe multiple' 'hand pump' 'other'\n",
            " 'improved spring' 'cattle trough' 'dam']\n",
            "\n",
            "\n",
            "['communal standpipe' 'hand pump' 'other' 'improved spring'\n",
            " 'cattle trough' 'dam']\n",
            "\n",
            "\n",
            "['functional' 'non functional' 'functional needs repair']\n"
          ]
        }
      ]
    },
    {
      "cell_type": "markdown",
      "source": [
        "There are no anomalies present in the dataset."
      ],
      "metadata": {
        "id": "7bQS-orl11Ds"
      }
    },
    {
      "cell_type": "markdown",
      "source": [
        "There are columns that contain very similar information:\n",
        "1. extraction_type, extraction_type_group, extraction_type_class\n",
        "2. payment, payment_type\n",
        "3. water_quality, quality_group\n",
        "4. source, source_class, source_type\n",
        "5. basin, region, region_code\n",
        "6. waterpoint_type, waterpoint_type_group\n",
        "7. scheme_name, scheme_management\n",
        "8. quantity, quantity_group\n",
        "\n",
        "\n",
        "This is going to make the columns have multicollinearity and introduce the risk of overfitting when modelling hence we will keep one and drop the rest.\n",
        "\n",
        "num_private has no description and it contains a lof of zeros which we cannot decipher and we cannot know for sure what it contains so we will drop the column."
      ],
      "metadata": {
        "id": "entdlbYWtFVp"
      }
    },
    {
      "cell_type": "code",
      "source": [
        "#dropping irrelevant columns\n",
        "data = data.drop(['extraction_type', 'extraction_type_class', 'payment', 'quality_group', 'basin',\n",
        "                  'region', 'waterpoint_type', 'scheme_name', 'quantity', 'num_private'], axis = 1)"
      ],
      "metadata": {
        "id": "Liw3tu0VCDDt"
      },
      "execution_count": 37,
      "outputs": []
    },
    {
      "cell_type": "code",
      "source": [
        "#Checking the datatypes\n",
        "\n",
        "data.dtypes\n"
      ],
      "metadata": {
        "colab": {
          "base_uri": "https://localhost:8080/"
        },
        "id": "uAYojEcUsxl6",
        "outputId": "286b1dfa-8991-4755-eccd-ddc40f0e0211"
      },
      "execution_count": 38,
      "outputs": [
        {
          "output_type": "execute_result",
          "data": {
            "text/plain": [
              "amount_tsh               float64\n",
              "date_recorded             object\n",
              "funder                    object\n",
              "gps_height                 int64\n",
              "installer                 object\n",
              "longitude                float64\n",
              "latitude                 float64\n",
              "wpt_name                  object\n",
              "subvillage                object\n",
              "region_code                int64\n",
              "district_code              int64\n",
              "lga                       object\n",
              "ward                      object\n",
              "population                 int64\n",
              "public_meeting            object\n",
              "recorded_by               object\n",
              "scheme_management         object\n",
              "permit                    object\n",
              "construction_year          int64\n",
              "extraction_type_group     object\n",
              "management                object\n",
              "management_group          object\n",
              "payment_type              object\n",
              "water_quality             object\n",
              "quantity_group            object\n",
              "source                    object\n",
              "source_type               object\n",
              "source_class              object\n",
              "waterpoint_type_group     object\n",
              "status_group              object\n",
              "dtype: object"
            ]
          },
          "metadata": {},
          "execution_count": 38
        }
      ]
    },
    {
      "cell_type": "code",
      "source": [
        "#Checking for null values\n",
        "data.isnull().sum()/len(data)*100"
      ],
      "metadata": {
        "colab": {
          "base_uri": "https://localhost:8080/"
        },
        "id": "pyJ0OW6Uk8CA",
        "outputId": "10ab4da9-9c48-4836-8995-d294cb8bf25b"
      },
      "execution_count": 39,
      "outputs": [
        {
          "output_type": "execute_result",
          "data": {
            "text/plain": [
              "amount_tsh               0.000000\n",
              "date_recorded            0.000000\n",
              "funder                   6.119529\n",
              "gps_height               0.000000\n",
              "installer                6.153199\n",
              "longitude                0.000000\n",
              "latitude                 0.000000\n",
              "wpt_name                 0.000000\n",
              "subvillage               0.624579\n",
              "region_code              0.000000\n",
              "district_code            0.000000\n",
              "lga                      0.000000\n",
              "ward                     0.000000\n",
              "population               0.000000\n",
              "public_meeting           5.612795\n",
              "recorded_by              0.000000\n",
              "scheme_management        6.526936\n",
              "permit                   5.144781\n",
              "construction_year        0.000000\n",
              "extraction_type_group    0.000000\n",
              "management               0.000000\n",
              "management_group         0.000000\n",
              "payment_type             0.000000\n",
              "water_quality            0.000000\n",
              "quantity_group           0.000000\n",
              "source                   0.000000\n",
              "source_type              0.000000\n",
              "source_class             0.000000\n",
              "waterpoint_type_group    0.000000\n",
              "status_group             0.000000\n",
              "dtype: float64"
            ]
          },
          "metadata": {},
          "execution_count": 39
        }
      ]
    },
    {
      "cell_type": "markdown",
      "source": [
        "\n",
        "\n",
        "*   funder, installer, subvillage, public_meeting, scheme_management, permit all have information that is missing so we will replace it with unknown\n",
        "\n",
        "\n",
        "\n",
        "\n",
        "\n",
        "\n"
      ],
      "metadata": {
        "id": "_GcT3unuTjC-"
      }
    },
    {
      "cell_type": "code",
      "source": [
        "#Replacing the null values in the mentioned columns with unknown\n",
        "\n",
        "# Define the columns that have missing values and are normally distributed to be filled with the mean value\n",
        "cols_with_missing_values = ['funder','installer','subvillage','public_meeting','scheme_management', 'permit']\n",
        "\n",
        "\n",
        "data[\"funder\"].fillna(\"unknown\", inplace = True)\n",
        "data[\"installer\"].fillna(\"unknown\", inplace = True)\n",
        "data[\"subvillage\"].fillna(\"unknown\", inplace = True)\n",
        "data[\"public_meeting\"].fillna(\"unknown\", inplace = True)\n",
        "data[\"scheme_management\"].fillna(\"unknown\", inplace = True)\n",
        "data[\"permit\"].fillna(\"unknown\", inplace = True)"
      ],
      "metadata": {
        "id": "bXyMXActVA2m"
      },
      "execution_count": 40,
      "outputs": []
    },
    {
      "cell_type": "code",
      "source": [
        "#Confirming if the changes have been implemented and there are no null values\n",
        "\n",
        "data.isnull().sum()"
      ],
      "metadata": {
        "colab": {
          "base_uri": "https://localhost:8080/"
        },
        "id": "FRMvvRG1WkWf",
        "outputId": "4dc64188-4f3b-4368-ef6b-e7b14701ad04"
      },
      "execution_count": 41,
      "outputs": [
        {
          "output_type": "execute_result",
          "data": {
            "text/plain": [
              "amount_tsh               0\n",
              "date_recorded            0\n",
              "funder                   0\n",
              "gps_height               0\n",
              "installer                0\n",
              "longitude                0\n",
              "latitude                 0\n",
              "wpt_name                 0\n",
              "subvillage               0\n",
              "region_code              0\n",
              "district_code            0\n",
              "lga                      0\n",
              "ward                     0\n",
              "population               0\n",
              "public_meeting           0\n",
              "recorded_by              0\n",
              "scheme_management        0\n",
              "permit                   0\n",
              "construction_year        0\n",
              "extraction_type_group    0\n",
              "management               0\n",
              "management_group         0\n",
              "payment_type             0\n",
              "water_quality            0\n",
              "quantity_group           0\n",
              "source                   0\n",
              "source_type              0\n",
              "source_class             0\n",
              "waterpoint_type_group    0\n",
              "status_group             0\n",
              "dtype: int64"
            ]
          },
          "metadata": {},
          "execution_count": 41
        }
      ]
    },
    {
      "cell_type": "code",
      "source": [
        "#checking for duplicates\n",
        "\n",
        "data.duplicated().sum()/data.shape[0]"
      ],
      "metadata": {
        "colab": {
          "base_uri": "https://localhost:8080/"
        },
        "id": "_rRbTl_2Xvwe",
        "outputId": "443dfd21-99f7-4e12-d306-ef8c3f51133c"
      },
      "execution_count": 43,
      "outputs": [
        {
          "output_type": "execute_result",
          "data": {
            "text/plain": [
              "0.0006060606060606061"
            ]
          },
          "metadata": {},
          "execution_count": 43
        }
      ]
    },
    {
      "cell_type": "markdown",
      "source": [
        "Decided not to drop duplicates as they may be necessary"
      ],
      "metadata": {
        "id": "i_4JJgfXYqqR"
      }
    },
    {
      "cell_type": "code",
      "source": [
        "#Dataset for SVM\n",
        "\n",
        "df_SVM = data.copy()\n",
        "df_SVM.shape"
      ],
      "metadata": {
        "colab": {
          "base_uri": "https://localhost:8080/"
        },
        "id": "zhWmvKdqYz-W",
        "outputId": "5024d2de-8796-4b47-a088-a5d7f476f8d8"
      },
      "execution_count": 44,
      "outputs": [
        {
          "output_type": "execute_result",
          "data": {
            "text/plain": [
              "(59400, 30)"
            ]
          },
          "metadata": {},
          "execution_count": 44
        }
      ]
    },
    {
      "cell_type": "markdown",
      "source": [
        "# **Exploratory Data Analysis**"
      ],
      "metadata": {
        "id": "cvDL3DATiKd0"
      }
    },
    {
      "cell_type": "markdown",
      "source": [
        "# **a) Univariate**"
      ],
      "metadata": {
        "id": "Asdd-gTniQ-o"
      }
    },
    {
      "cell_type": "code",
      "source": [
        "#Statistical summary of the dataset\n",
        "data.describe()"
      ],
      "metadata": {
        "colab": {
          "base_uri": "https://localhost:8080/",
          "height": 300
        },
        "id": "N_QWYP3paBng",
        "outputId": "3bf375f8-578f-4661-d7d8-46cc7ea9600b"
      },
      "execution_count": 45,
      "outputs": [
        {
          "output_type": "execute_result",
          "data": {
            "text/plain": [
              "          amount_tsh    gps_height     longitude      latitude   region_code  \\\n",
              "count   59400.000000  59400.000000  59400.000000  5.940000e+04  59400.000000   \n",
              "mean      317.650385    668.297239     34.077427 -5.706033e+00     15.297003   \n",
              "std      2997.574558    693.116350      6.567432  2.946019e+00     17.587406   \n",
              "min         0.000000    -90.000000      0.000000 -1.164944e+01      1.000000   \n",
              "25%         0.000000      0.000000     33.090347 -8.540621e+00      5.000000   \n",
              "50%         0.000000    369.000000     34.908743 -5.021597e+00     12.000000   \n",
              "75%        20.000000   1319.250000     37.178387 -3.326156e+00     17.000000   \n",
              "max    350000.000000   2770.000000     40.345193 -2.000000e-08     99.000000   \n",
              "\n",
              "       district_code    population  construction_year  \n",
              "count   59400.000000  59400.000000       59400.000000  \n",
              "mean        5.629747    179.909983        1300.652475  \n",
              "std         9.633649    471.482176         951.620547  \n",
              "min         0.000000      0.000000           0.000000  \n",
              "25%         2.000000      0.000000           0.000000  \n",
              "50%         3.000000     25.000000        1986.000000  \n",
              "75%         5.000000    215.000000        2004.000000  \n",
              "max        80.000000  30500.000000        2013.000000  "
            ],
            "text/html": [
              "\n",
              "  <div id=\"df-79d4ad48-e8c7-4f3d-913c-4e4fbb07bc7c\">\n",
              "    <div class=\"colab-df-container\">\n",
              "      <div>\n",
              "<style scoped>\n",
              "    .dataframe tbody tr th:only-of-type {\n",
              "        vertical-align: middle;\n",
              "    }\n",
              "\n",
              "    .dataframe tbody tr th {\n",
              "        vertical-align: top;\n",
              "    }\n",
              "\n",
              "    .dataframe thead th {\n",
              "        text-align: right;\n",
              "    }\n",
              "</style>\n",
              "<table border=\"1\" class=\"dataframe\">\n",
              "  <thead>\n",
              "    <tr style=\"text-align: right;\">\n",
              "      <th></th>\n",
              "      <th>amount_tsh</th>\n",
              "      <th>gps_height</th>\n",
              "      <th>longitude</th>\n",
              "      <th>latitude</th>\n",
              "      <th>region_code</th>\n",
              "      <th>district_code</th>\n",
              "      <th>population</th>\n",
              "      <th>construction_year</th>\n",
              "    </tr>\n",
              "  </thead>\n",
              "  <tbody>\n",
              "    <tr>\n",
              "      <th>count</th>\n",
              "      <td>59400.000000</td>\n",
              "      <td>59400.000000</td>\n",
              "      <td>59400.000000</td>\n",
              "      <td>5.940000e+04</td>\n",
              "      <td>59400.000000</td>\n",
              "      <td>59400.000000</td>\n",
              "      <td>59400.000000</td>\n",
              "      <td>59400.000000</td>\n",
              "    </tr>\n",
              "    <tr>\n",
              "      <th>mean</th>\n",
              "      <td>317.650385</td>\n",
              "      <td>668.297239</td>\n",
              "      <td>34.077427</td>\n",
              "      <td>-5.706033e+00</td>\n",
              "      <td>15.297003</td>\n",
              "      <td>5.629747</td>\n",
              "      <td>179.909983</td>\n",
              "      <td>1300.652475</td>\n",
              "    </tr>\n",
              "    <tr>\n",
              "      <th>std</th>\n",
              "      <td>2997.574558</td>\n",
              "      <td>693.116350</td>\n",
              "      <td>6.567432</td>\n",
              "      <td>2.946019e+00</td>\n",
              "      <td>17.587406</td>\n",
              "      <td>9.633649</td>\n",
              "      <td>471.482176</td>\n",
              "      <td>951.620547</td>\n",
              "    </tr>\n",
              "    <tr>\n",
              "      <th>min</th>\n",
              "      <td>0.000000</td>\n",
              "      <td>-90.000000</td>\n",
              "      <td>0.000000</td>\n",
              "      <td>-1.164944e+01</td>\n",
              "      <td>1.000000</td>\n",
              "      <td>0.000000</td>\n",
              "      <td>0.000000</td>\n",
              "      <td>0.000000</td>\n",
              "    </tr>\n",
              "    <tr>\n",
              "      <th>25%</th>\n",
              "      <td>0.000000</td>\n",
              "      <td>0.000000</td>\n",
              "      <td>33.090347</td>\n",
              "      <td>-8.540621e+00</td>\n",
              "      <td>5.000000</td>\n",
              "      <td>2.000000</td>\n",
              "      <td>0.000000</td>\n",
              "      <td>0.000000</td>\n",
              "    </tr>\n",
              "    <tr>\n",
              "      <th>50%</th>\n",
              "      <td>0.000000</td>\n",
              "      <td>369.000000</td>\n",
              "      <td>34.908743</td>\n",
              "      <td>-5.021597e+00</td>\n",
              "      <td>12.000000</td>\n",
              "      <td>3.000000</td>\n",
              "      <td>25.000000</td>\n",
              "      <td>1986.000000</td>\n",
              "    </tr>\n",
              "    <tr>\n",
              "      <th>75%</th>\n",
              "      <td>20.000000</td>\n",
              "      <td>1319.250000</td>\n",
              "      <td>37.178387</td>\n",
              "      <td>-3.326156e+00</td>\n",
              "      <td>17.000000</td>\n",
              "      <td>5.000000</td>\n",
              "      <td>215.000000</td>\n",
              "      <td>2004.000000</td>\n",
              "    </tr>\n",
              "    <tr>\n",
              "      <th>max</th>\n",
              "      <td>350000.000000</td>\n",
              "      <td>2770.000000</td>\n",
              "      <td>40.345193</td>\n",
              "      <td>-2.000000e-08</td>\n",
              "      <td>99.000000</td>\n",
              "      <td>80.000000</td>\n",
              "      <td>30500.000000</td>\n",
              "      <td>2013.000000</td>\n",
              "    </tr>\n",
              "  </tbody>\n",
              "</table>\n",
              "</div>\n",
              "      <button class=\"colab-df-convert\" onclick=\"convertToInteractive('df-79d4ad48-e8c7-4f3d-913c-4e4fbb07bc7c')\"\n",
              "              title=\"Convert this dataframe to an interactive table.\"\n",
              "              style=\"display:none;\">\n",
              "        \n",
              "  <svg xmlns=\"http://www.w3.org/2000/svg\" height=\"24px\"viewBox=\"0 0 24 24\"\n",
              "       width=\"24px\">\n",
              "    <path d=\"M0 0h24v24H0V0z\" fill=\"none\"/>\n",
              "    <path d=\"M18.56 5.44l.94 2.06.94-2.06 2.06-.94-2.06-.94-.94-2.06-.94 2.06-2.06.94zm-11 1L8.5 8.5l.94-2.06 2.06-.94-2.06-.94L8.5 2.5l-.94 2.06-2.06.94zm10 10l.94 2.06.94-2.06 2.06-.94-2.06-.94-.94-2.06-.94 2.06-2.06.94z\"/><path d=\"M17.41 7.96l-1.37-1.37c-.4-.4-.92-.59-1.43-.59-.52 0-1.04.2-1.43.59L10.3 9.45l-7.72 7.72c-.78.78-.78 2.05 0 2.83L4 21.41c.39.39.9.59 1.41.59.51 0 1.02-.2 1.41-.59l7.78-7.78 2.81-2.81c.8-.78.8-2.07 0-2.86zM5.41 20L4 18.59l7.72-7.72 1.47 1.35L5.41 20z\"/>\n",
              "  </svg>\n",
              "      </button>\n",
              "      \n",
              "  <style>\n",
              "    .colab-df-container {\n",
              "      display:flex;\n",
              "      flex-wrap:wrap;\n",
              "      gap: 12px;\n",
              "    }\n",
              "\n",
              "    .colab-df-convert {\n",
              "      background-color: #E8F0FE;\n",
              "      border: none;\n",
              "      border-radius: 50%;\n",
              "      cursor: pointer;\n",
              "      display: none;\n",
              "      fill: #1967D2;\n",
              "      height: 32px;\n",
              "      padding: 0 0 0 0;\n",
              "      width: 32px;\n",
              "    }\n",
              "\n",
              "    .colab-df-convert:hover {\n",
              "      background-color: #E2EBFA;\n",
              "      box-shadow: 0px 1px 2px rgba(60, 64, 67, 0.3), 0px 1px 3px 1px rgba(60, 64, 67, 0.15);\n",
              "      fill: #174EA6;\n",
              "    }\n",
              "\n",
              "    [theme=dark] .colab-df-convert {\n",
              "      background-color: #3B4455;\n",
              "      fill: #D2E3FC;\n",
              "    }\n",
              "\n",
              "    [theme=dark] .colab-df-convert:hover {\n",
              "      background-color: #434B5C;\n",
              "      box-shadow: 0px 1px 3px 1px rgba(0, 0, 0, 0.15);\n",
              "      filter: drop-shadow(0px 1px 2px rgba(0, 0, 0, 0.3));\n",
              "      fill: #FFFFFF;\n",
              "    }\n",
              "  </style>\n",
              "\n",
              "      <script>\n",
              "        const buttonEl =\n",
              "          document.querySelector('#df-79d4ad48-e8c7-4f3d-913c-4e4fbb07bc7c button.colab-df-convert');\n",
              "        buttonEl.style.display =\n",
              "          google.colab.kernel.accessAllowed ? 'block' : 'none';\n",
              "\n",
              "        async function convertToInteractive(key) {\n",
              "          const element = document.querySelector('#df-79d4ad48-e8c7-4f3d-913c-4e4fbb07bc7c');\n",
              "          const dataTable =\n",
              "            await google.colab.kernel.invokeFunction('convertToInteractive',\n",
              "                                                     [key], {});\n",
              "          if (!dataTable) return;\n",
              "\n",
              "          const docLinkHtml = 'Like what you see? Visit the ' +\n",
              "            '<a target=\"_blank\" href=https://colab.research.google.com/notebooks/data_table.ipynb>data table notebook</a>'\n",
              "            + ' to learn more about interactive tables.';\n",
              "          element.innerHTML = '';\n",
              "          dataTable['output_type'] = 'display_data';\n",
              "          await google.colab.output.renderOutput(dataTable, element);\n",
              "          const docLink = document.createElement('div');\n",
              "          docLink.innerHTML = docLinkHtml;\n",
              "          element.appendChild(docLink);\n",
              "        }\n",
              "      </script>\n",
              "    </div>\n",
              "  </div>\n",
              "  "
            ]
          },
          "metadata": {},
          "execution_count": 45
        }
      ]
    },
    {
      "cell_type": "markdown",
      "source": [
        "Population has a bit of anomalies since it is impossible for an area to have 0 people present.\n",
        "\n",
        "Construction_year also seems to be missing some data which we will address later."
      ],
      "metadata": {
        "id": "1_AkM9RvZOnd"
      }
    },
    {
      "cell_type": "markdown",
      "source": [
        "# **Outliers**"
      ],
      "metadata": {
        "id": "-70OOUT7abxq"
      }
    },
    {
      "cell_type": "code",
      "source": [
        "sns.boxplot(data=data, x='population')"
      ],
      "metadata": {
        "colab": {
          "base_uri": "https://localhost:8080/",
          "height": 296
        },
        "id": "7iS413NrZM8c",
        "outputId": "68b2b5a5-c9b0-4133-cc7a-9e371bab85c6"
      },
      "execution_count": 46,
      "outputs": [
        {
          "output_type": "execute_result",
          "data": {
            "text/plain": [
              "<matplotlib.axes._subplots.AxesSubplot at 0x7fd71218eaf0>"
            ]
          },
          "metadata": {},
          "execution_count": 46
        },
        {
          "output_type": "display_data",
          "data": {
            "text/plain": [
              "<Figure size 432x288 with 1 Axes>"
            ],
            "image/png": "[encoded data removed]"
          },
          "metadata": {
            "needs_background": "light"
          }
        }
      ]
    },
    {
      "cell_type": "markdown",
      "source": [
        "It is possible for an area to be densely populated and have that many number of people. We will not drop the outlier."
      ],
      "metadata": {
        "id": "Tg4rV-tjaIiF"
      }
    },
    {
      "cell_type": "markdown",
      "source": [],
      "metadata": {
        "id": "pnWlf2CFak8E"
      }
    },
    {
      "cell_type": "markdown",
      "source": [
        "# **Status Group**"
      ],
      "metadata": {
        "id": "mP65f7n-eXmd"
      }
    },
    {
      "cell_type": "code",
      "source": [
        "#Count plot for the status of the pump\n",
        "sns.countplot(data=data, y='status_group')"
      ],
      "metadata": {
        "colab": {
          "base_uri": "https://localhost:8080/",
          "height": 296
        },
        "id": "Tzbc-XEPaKjx",
        "outputId": "f0adbb1c-efbd-48ef-e555-904d984fc2f2"
      },
      "execution_count": 55,
      "outputs": [
        {
          "output_type": "execute_result",
          "data": {
            "text/plain": [
              "<matplotlib.axes._subplots.AxesSubplot at 0x7fd70c0c1820>"
            ]
          },
          "metadata": {},
          "execution_count": 55
        },
        {
          "output_type": "display_data",
          "data": {
            "text/plain": [
              "<Figure size 432x288 with 1 Axes>"
            ],
            "image/png": "[encoded data removed]"
          },
          "metadata": {
            "needs_background": "light"
          }
        }
      ]
    },
    {
      "cell_type": "markdown",
      "source": [
        "There are more functional pumps as compared to the non functional and the ones that need repairs"
      ],
      "metadata": {
        "id": "FDrLdFSAecli"
      }
    },
    {
      "cell_type": "markdown",
      "source": [
        "# **Installer**"
      ],
      "metadata": {
        "id": "uKY_5SZMe8-Z"
      }
    },
    {
      "cell_type": "code",
      "source": [
        "sns.countplot(data=data, y='installer', order = data.installer.value_counts().iloc[:7].index)\n"
      ],
      "metadata": {
        "colab": {
          "base_uri": "https://localhost:8080/",
          "height": 296
        },
        "id": "UNRUtsFKe9Y1",
        "outputId": "e711692a-4cb6-460a-cf6b-fc334fba60c8"
      },
      "execution_count": 57,
      "outputs": [
        {
          "output_type": "execute_result",
          "data": {
            "text/plain": [
              "<matplotlib.axes._subplots.AxesSubplot at 0x7fd709f402e0>"
            ]
          },
          "metadata": {},
          "execution_count": 57
        },
        {
          "output_type": "display_data",
          "data": {
            "text/plain": [
              "<Figure size 432x288 with 1 Axes>"
            ],
            "image/png": "[encoded data removed]"
          },
          "metadata": {
            "needs_background": "light"
          }
        }
      ]
    },
    {
      "cell_type": "markdown",
      "source": [
        "DWE installed most wells as compared to the rest."
      ],
      "metadata": {
        "id": "n8hsJ5nWfzhD"
      }
    },
    {
      "cell_type": "markdown",
      "source": [
        "# **Funder**"
      ],
      "metadata": {
        "id": "TGNm42BGf6Y_"
      }
    },
    {
      "cell_type": "code",
      "source": [
        "sns.countplot(data=data, y='funder', order = data.funder.value_counts().iloc[:7].index)"
      ],
      "metadata": {
        "colab": {
          "base_uri": "https://localhost:8080/",
          "height": 296
        },
        "id": "gmbr1Uftf7Cj",
        "outputId": "d1c5d674-c977-452f-ef9b-96435ad27233"
      },
      "execution_count": 58,
      "outputs": [
        {
          "output_type": "execute_result",
          "data": {
            "text/plain": [
              "<matplotlib.axes._subplots.AxesSubplot at 0x7fd709e20ca0>"
            ]
          },
          "metadata": {},
          "execution_count": 58
        },
        {
          "output_type": "display_data",
          "data": {
            "text/plain": [
              "<Figure size 432x288 with 1 Axes>"
            ],
            "image/png": "[encoded data removed]"
          },
          "metadata": {
            "needs_background": "light"
          }
        }
      ]
    },
    {
      "cell_type": "markdown",
      "source": [
        "The Government of Tanzania funded most wells as compared to the rest."
      ],
      "metadata": {
        "id": "Fvg4Ar3UgIOh"
      }
    },
    {
      "cell_type": "markdown",
      "source": [
        "# **Permit**"
      ],
      "metadata": {
        "id": "Lv0f6467gQlM"
      }
    },
    {
      "cell_type": "code",
      "source": [
        "sns.countplot(data=data, y='permit', order = data.permit.value_counts().index)"
      ],
      "metadata": {
        "colab": {
          "base_uri": "https://localhost:8080/",
          "height": 296
        },
        "id": "gdTQ0FyigRAp",
        "outputId": "435e2a29-2758-4d3a-9bff-0a30c70acf74"
      },
      "execution_count": 61,
      "outputs": [
        {
          "output_type": "execute_result",
          "data": {
            "text/plain": [
              "<matplotlib.axes._subplots.AxesSubplot at 0x7fd708c47310>"
            ]
          },
          "metadata": {},
          "execution_count": 61
        },
        {
          "output_type": "display_data",
          "data": {
            "text/plain": [
              "<Figure size 432x288 with 1 Axes>"
            ],
            "image/png": "[encoded data removed]"
          },
          "metadata": {
            "needs_background": "light"
          }
        }
      ]
    },
    {
      "cell_type": "markdown",
      "source": [
        "Most of the water points are permitted."
      ],
      "metadata": {
        "id": "Qo1vL_EagShw"
      }
    },
    {
      "cell_type": "markdown",
      "source": [
        "# **Source**"
      ],
      "metadata": {
        "id": "xr4GZTQDgTIR"
      }
    },
    {
      "cell_type": "code",
      "source": [
        "sns.countplot(data=data, y='source', order = data.source.value_counts().iloc[:7].index)"
      ],
      "metadata": {
        "colab": {
          "base_uri": "https://localhost:8080/",
          "height": 296
        },
        "id": "hqqWDxKPgTuU",
        "outputId": "4cb4f569-f283-457c-f991-8aba2a867f98"
      },
      "execution_count": 62,
      "outputs": [
        {
          "output_type": "execute_result",
          "data": {
            "text/plain": [
              "<matplotlib.axes._subplots.AxesSubplot at 0x7fd708c80460>"
            ]
          },
          "metadata": {},
          "execution_count": 62
        },
        {
          "output_type": "display_data",
          "data": {
            "text/plain": [
              "<Figure size 432x288 with 1 Axes>"
            ],
            "image/png": "[encoded data removed]"
          },
          "metadata": {
            "needs_background": "light"
          }
        }
      ]
    },
    {
      "cell_type": "markdown",
      "source": [
        "Spring is the most common source of water."
      ],
      "metadata": {
        "id": "55pqgySCgUI4"
      }
    },
    {
      "cell_type": "markdown",
      "source": [
        "# **Extraction**"
      ],
      "metadata": {
        "id": "vr9ljXC_hJyj"
      }
    },
    {
      "cell_type": "code",
      "source": [
        "sns.countplot(data=data, y='extraction_type_group', order = data.extraction_type_group.value_counts().iloc[:7].index)"
      ],
      "metadata": {
        "colab": {
          "base_uri": "https://localhost:8080/",
          "height": 296
        },
        "id": "RUTiTWuPhKKp",
        "outputId": "ad7ec7ef-b0b1-441c-e30d-d2e171a28ec7"
      },
      "execution_count": 63,
      "outputs": [
        {
          "output_type": "execute_result",
          "data": {
            "text/plain": [
              "<matplotlib.axes._subplots.AxesSubplot at 0x7fd708ba5d60>"
            ]
          },
          "metadata": {},
          "execution_count": 63
        },
        {
          "output_type": "display_data",
          "data": {
            "text/plain": [
              "<Figure size 432x288 with 1 Axes>"
            ],
            "image/png": "[encoded data removed]"
          },
          "metadata": {
            "needs_background": "light"
          }
        }
      ]
    },
    {
      "cell_type": "markdown",
      "source": [
        "Most of the water points use gravity to extract their water."
      ],
      "metadata": {
        "id": "-kh6IV80hKr1"
      }
    },
    {
      "cell_type": "markdown",
      "source": [
        "# **Management**"
      ],
      "metadata": {
        "id": "XCRH5ykRhgVh"
      }
    },
    {
      "cell_type": "code",
      "source": [
        "sns.countplot(data=data, y='management', order = data.management.value_counts().iloc[:7].index)"
      ],
      "metadata": {
        "colab": {
          "base_uri": "https://localhost:8080/",
          "height": 296
        },
        "id": "2T6UQng_hgvl",
        "outputId": "997b2eb7-a0bc-43be-8332-0174ed076ba0"
      },
      "execution_count": 64,
      "outputs": [
        {
          "output_type": "execute_result",
          "data": {
            "text/plain": [
              "<matplotlib.axes._subplots.AxesSubplot at 0x7fd708b5e8e0>"
            ]
          },
          "metadata": {},
          "execution_count": 64
        },
        {
          "output_type": "display_data",
          "data": {
            "text/plain": [
              "<Figure size 432x288 with 1 Axes>"
            ],
            "image/png": "[encoded data removed]"
          },
          "metadata": {
            "needs_background": "light"
          }
        }
      ]
    },
    {
      "cell_type": "markdown",
      "source": [
        "Majority of the water points is managed by VWC"
      ],
      "metadata": {
        "id": "xHJ3-kq6hhLI"
      }
    },
    {
      "cell_type": "markdown",
      "source": [
        "# **Quantity**"
      ],
      "metadata": {
        "id": "yLwodyCLiIUY"
      }
    },
    {
      "cell_type": "code",
      "source": [
        "sns.countplot(data=data, y='quantity_group')"
      ],
      "metadata": {
        "colab": {
          "base_uri": "https://localhost:8080/",
          "height": 296
        },
        "id": "hNLSWDuYiLg8",
        "outputId": "25946cd0-6cf4-49b2-fe93-f7e13b7a5bc4"
      },
      "execution_count": 66,
      "outputs": [
        {
          "output_type": "execute_result",
          "data": {
            "text/plain": [
              "<matplotlib.axes._subplots.AxesSubplot at 0x7fd708a96910>"
            ]
          },
          "metadata": {},
          "execution_count": 66
        },
        {
          "output_type": "display_data",
          "data": {
            "text/plain": [
              "<Figure size 432x288 with 1 Axes>"
            ],
            "image/png": "[encoded data removed]"
          },
          "metadata": {
            "needs_background": "light"
          }
        }
      ]
    },
    {
      "cell_type": "markdown",
      "source": [
        "Most of the water points have enough quantity of water."
      ],
      "metadata": {
        "id": "tkBK6Z71iZSM"
      }
    },
    {
      "cell_type": "markdown",
      "source": [
        "# **Payment**"
      ],
      "metadata": {
        "id": "jZ1CdATXiiuo"
      }
    },
    {
      "cell_type": "code",
      "source": [
        "sns.countplot(data=data, y='payment_type', order = data.payment_type.value_counts().index)"
      ],
      "metadata": {
        "colab": {
          "base_uri": "https://localhost:8080/",
          "height": 296
        },
        "id": "Cb-KznuCilXE",
        "outputId": "0855119e-353f-467f-8242-4046830daf6b"
      },
      "execution_count": 68,
      "outputs": [
        {
          "output_type": "execute_result",
          "data": {
            "text/plain": [
              "<matplotlib.axes._subplots.AxesSubplot at 0x7fd7089be6d0>"
            ]
          },
          "metadata": {},
          "execution_count": 68
        },
        {
          "output_type": "display_data",
          "data": {
            "text/plain": [
              "<Figure size 432x288 with 1 Axes>"
            ],
            "image/png": "[encoded data removed]"
          },
          "metadata": {
            "needs_background": "light"
          }
        }
      ]
    },
    {
      "cell_type": "markdown",
      "source": [
        "Most of the water points do not charge for their water."
      ],
      "metadata": {
        "id": "Y4ysPUq1i3WD"
      }
    },
    {
      "cell_type": "code",
      "source": [
        "data.columns"
      ],
      "metadata": {
        "colab": {
          "base_uri": "https://localhost:8080/"
        },
        "id": "oqReY3GGaq8d",
        "outputId": "43a3943b-f75f-411c-dd44-ce0132898e0a"
      },
      "execution_count": 47,
      "outputs": [
        {
          "output_type": "execute_result",
          "data": {
            "text/plain": [
              "Index(['amount_tsh', 'date_recorded', 'funder', 'gps_height', 'installer',\n",
              "       'longitude', 'latitude', 'wpt_name', 'subvillage', 'region_code',\n",
              "       'district_code', 'lga', 'ward', 'population', 'public_meeting',\n",
              "       'recorded_by', 'scheme_management', 'permit', 'construction_year',\n",
              "       'extraction_type_group', 'management', 'management_group',\n",
              "       'payment_type', 'water_quality', 'quantity_group', 'source',\n",
              "       'source_type', 'source_class', 'waterpoint_type_group', 'status_group'],\n",
              "      dtype='object')"
            ]
          },
          "metadata": {},
          "execution_count": 47
        }
      ]
    },
    {
      "cell_type": "markdown",
      "source": [
        "# **b) Bivariate**"
      ],
      "metadata": {
        "id": "sPHeEI0Hh7ca"
      }
    },
    {
      "cell_type": "code",
      "source": [
        "data.columns"
      ],
      "metadata": {
        "colab": {
          "base_uri": "https://localhost:8080/"
        },
        "id": "Dtdg8GxdX2bp",
        "outputId": "77fbe93a-26b3-4648-bc43-7e931f47415a"
      },
      "execution_count": null,
      "outputs": [
        {
          "output_type": "execute_result",
          "data": {
            "text/plain": [
              "Index(['respondent_id', 'h1n1_concern', 'h1n1_knowledge',\n",
              "       'behavioral_antiviral_meds', 'behavioral_avoidance',\n",
              "       'behavioral_face_mask', 'behavioral_wash_hands',\n",
              "       'behavioral_large_gatherings', 'behavioral_outside_home',\n",
              "       'behavioral_touch_face', 'doctor_recc_h1n1', 'doctor_recc_seasonal',\n",
              "       'chronic_med_condition', 'child_under_6_months', 'health_worker',\n",
              "       'health_insurance', 'opinion_h1n1_vacc_effective', 'opinion_h1n1_risk',\n",
              "       'opinion_h1n1_sick_from_vacc', 'opinion_seas_vacc_effective',\n",
              "       'opinion_seas_risk', 'opinion_seas_sick_from_vacc', 'age_group',\n",
              "       'education', 'race', 'sex', 'income_poverty', 'marital_status',\n",
              "       'rent_or_own', 'employment_status', 'hhs_geo_region', 'census_msa',\n",
              "       'household_adults', 'household_children', 'employment_industry',\n",
              "       'employment_occupation', 'respondent_id', 'h1n1_vaccine',\n",
              "       'seasonal_vaccine'],\n",
              "      dtype='object')"
            ]
          },
          "metadata": {},
          "execution_count": 48
        }
      ]
    },
    {
      "cell_type": "markdown",
      "source": [
        "There are 36 features(columns) in the training set\n",
        "There are 3 columns in the target file. Since we are working with seasonal file, we can drop the h1n1 column"
      ],
      "metadata": {
        "id": "sPHRV0AeudsL"
      }
    },
    {
      "cell_type": "code",
      "source": [
        "X.info()"
      ],
      "metadata": {
        "colab": {
          "base_uri": "https://localhost:8080/"
        },
        "id": "RLDYvlsUucUb",
        "outputId": "e8b11cde-f500-4f5c-dc4b-19addeb89c73"
      },
      "execution_count": null,
      "outputs": [
        {
          "output_type": "stream",
          "name": "stdout",
          "text": [
            "<class 'pandas.core.frame.DataFrame'>\n",
            "RangeIndex: 26707 entries, 0 to 26706\n",
            "Data columns (total 36 columns):\n",
            " #   Column                       Non-Null Count  Dtype  \n",
            "---  ------                       --------------  -----  \n",
            " 0   respondent_id                26707 non-null  int64  \n",
            " 1   h1n1_concern                 26615 non-null  float64\n",
            " 2   h1n1_knowledge               26591 non-null  float64\n",
            " 3   behavioral_antiviral_meds    26636 non-null  float64\n",
            " 4   behavioral_avoidance         26499 non-null  float64\n",
            " 5   behavioral_face_mask         26688 non-null  float64\n",
            " 6   behavioral_wash_hands        26665 non-null  float64\n",
            " 7   behavioral_large_gatherings  26620 non-null  float64\n",
            " 8   behavioral_outside_home      26625 non-null  float64\n",
            " 9   behavioral_touch_face        26579 non-null  float64\n",
            " 10  doctor_recc_h1n1             24547 non-null  float64\n",
            " 11  doctor_recc_seasonal         24547 non-null  float64\n",
            " 12  chronic_med_condition        25736 non-null  float64\n",
            " 13  child_under_6_months         25887 non-null  float64\n",
            " 14  health_worker                25903 non-null  float64\n",
            " 15  health_insurance             14433 non-null  float64\n",
            " 16  opinion_h1n1_vacc_effective  26316 non-null  float64\n",
            " 17  opinion_h1n1_risk            26319 non-null  float64\n",
            " 18  opinion_h1n1_sick_from_vacc  26312 non-null  float64\n",
            " 19  opinion_seas_vacc_effective  26245 non-null  float64\n",
            " 20  opinion_seas_risk            26193 non-null  float64\n",
            " 21  opinion_seas_sick_from_vacc  26170 non-null  float64\n",
            " 22  age_group                    26707 non-null  object \n",
            " 23  education                    25300 non-null  object \n",
            " 24  race                         26707 non-null  object \n",
            " 25  sex                          26707 non-null  object \n",
            " 26  income_poverty               22284 non-null  object \n",
            " 27  marital_status               25299 non-null  object \n",
            " 28  rent_or_own                  24665 non-null  object \n",
            " 29  employment_status            25244 non-null  object \n",
            " 30  hhs_geo_region               26707 non-null  object \n",
            " 31  census_msa                   26707 non-null  object \n",
            " 32  household_adults             26458 non-null  float64\n",
            " 33  household_children           26458 non-null  float64\n",
            " 34  employment_industry          13377 non-null  object \n",
            " 35  employment_occupation        13237 non-null  object \n",
            "dtypes: float64(23), int64(1), object(12)\n",
            "memory usage: 7.3+ MB\n"
          ]
        }
      ]
    },
    {
      "cell_type": "code",
      "source": [
        "X.head()"
      ],
      "metadata": {
        "colab": {
          "base_uri": "https://localhost:8080/",
          "height": 438
        },
        "id": "AcOdIR95u_eL",
        "outputId": "2e569a95-e090-483f-e567-670e203b710f"
      },
      "execution_count": null,
      "outputs": [
        {
          "output_type": "execute_result",
          "data": {
            "text/plain": [
              "   respondent_id  h1n1_concern  h1n1_knowledge  behavioral_antiviral_meds  \\\n",
              "0              0           1.0             0.0                        0.0   \n",
              "1              1           3.0             2.0                        0.0   \n",
              "2              2           1.0             1.0                        0.0   \n",
              "3              3           1.0             1.0                        0.0   \n",
              "4              4           2.0             1.0                        0.0   \n",
              "\n",
              "   behavioral_avoidance  behavioral_face_mask  behavioral_wash_hands  \\\n",
              "0                   0.0                   0.0                    0.0   \n",
              "1                   1.0                   0.0                    1.0   \n",
              "2                   1.0                   0.0                    0.0   \n",
              "3                   1.0                   0.0                    1.0   \n",
              "4                   1.0                   0.0                    1.0   \n",
              "\n",
              "   behavioral_large_gatherings  behavioral_outside_home  \\\n",
              "0                          0.0                      1.0   \n",
              "1                          0.0                      1.0   \n",
              "2                          0.0                      0.0   \n",
              "3                          1.0                      0.0   \n",
              "4                          1.0                      0.0   \n",
              "\n",
              "   behavioral_touch_face  ...             income_poverty  marital_status  \\\n",
              "0                    1.0  ...              Below Poverty     Not Married   \n",
              "1                    1.0  ...              Below Poverty     Not Married   \n",
              "2                    0.0  ...  <= $75,000, Above Poverty     Not Married   \n",
              "3                    0.0  ...              Below Poverty     Not Married   \n",
              "4                    1.0  ...  <= $75,000, Above Poverty         Married   \n",
              "\n",
              "   rent_or_own   employment_status  hhs_geo_region                census_msa  \\\n",
              "0          Own  Not in Labor Force        oxchjgsf                   Non-MSA   \n",
              "1         Rent            Employed        bhuqouqj  MSA, Not Principle  City   \n",
              "2          Own            Employed        qufhixun  MSA, Not Principle  City   \n",
              "3         Rent  Not in Labor Force        lrircsnp       MSA, Principle City   \n",
              "4          Own            Employed        qufhixun  MSA, Not Principle  City   \n",
              "\n",
              "   household_adults  household_children  employment_industry  \\\n",
              "0               0.0                 0.0                  NaN   \n",
              "1               0.0                 0.0             pxcmvdjn   \n",
              "2               2.0                 0.0             rucpziij   \n",
              "3               0.0                 0.0                  NaN   \n",
              "4               1.0                 0.0             wxleyezf   \n",
              "\n",
              "   employment_occupation  \n",
              "0                    NaN  \n",
              "1               xgwztkwe  \n",
              "2               xtkaffoo  \n",
              "3                    NaN  \n",
              "4               emcorrxb  \n",
              "\n",
              "[5 rows x 36 columns]"
            ],
            "text/html": [
              "\n",
              "  <div id=\"df-a4d5ac78-6659-4b30-9246-740eeba54c4d\">\n",
              "    <div class=\"colab-df-container\">\n",
              "      <div>\n",
              "<style scoped>\n",
              "    .dataframe tbody tr th:only-of-type {\n",
              "        vertical-align: middle;\n",
              "    }\n",
              "\n",
              "    .dataframe tbody tr th {\n",
              "        vertical-align: top;\n",
              "    }\n",
              "\n",
              "    .dataframe thead th {\n",
              "        text-align: right;\n",
              "    }\n",
              "</style>\n",
              "<table border=\"1\" class=\"dataframe\">\n",
              "  <thead>\n",
              "    <tr style=\"text-align: right;\">\n",
              "      <th></th>\n",
              "      <th>respondent_id</th>\n",
              "      <th>h1n1_concern</th>\n",
              "      <th>h1n1_knowledge</th>\n",
              "      <th>behavioral_antiviral_meds</th>\n",
              "      <th>behavioral_avoidance</th>\n",
              "      <th>behavioral_face_mask</th>\n",
              "      <th>behavioral_wash_hands</th>\n",
              "      <th>behavioral_large_gatherings</th>\n",
              "      <th>behavioral_outside_home</th>\n",
              "      <th>behavioral_touch_face</th>\n",
              "      <th>...</th>\n",
              "      <th>income_poverty</th>\n",
              "      <th>marital_status</th>\n",
              "      <th>rent_or_own</th>\n",
              "      <th>employment_status</th>\n",
              "      <th>hhs_geo_region</th>\n",
              "      <th>census_msa</th>\n",
              "      <th>household_adults</th>\n",
              "      <th>household_children</th>\n",
              "      <th>employment_industry</th>\n",
              "      <th>employment_occupation</th>\n",
              "    </tr>\n",
              "  </thead>\n",
              "  <tbody>\n",
              "    <tr>\n",
              "      <th>0</th>\n",
              "      <td>0</td>\n",
              "      <td>1.0</td>\n",
              "      <td>0.0</td>\n",
              "      <td>0.0</td>\n",
              "      <td>0.0</td>\n",
              "      <td>0.0</td>\n",
              "      <td>0.0</td>\n",
              "      <td>0.0</td>\n",
              "      <td>1.0</td>\n",
              "      <td>1.0</td>\n",
              "      <td>...</td>\n",
              "      <td>Below Poverty</td>\n",
              "      <td>Not Married</td>\n",
              "      <td>Own</td>\n",
              "      <td>Not in Labor Force</td>\n",
              "      <td>oxchjgsf</td>\n",
              "      <td>Non-MSA</td>\n",
              "      <td>0.0</td>\n",
              "      <td>0.0</td>\n",
              "      <td>NaN</td>\n",
              "      <td>NaN</td>\n",
              "    </tr>\n",
              "    <tr>\n",
              "      <th>1</th>\n",
              "      <td>1</td>\n",
              "      <td>3.0</td>\n",
              "      <td>2.0</td>\n",
              "      <td>0.0</td>\n",
              "      <td>1.0</td>\n",
              "      <td>0.0</td>\n",
              "      <td>1.0</td>\n",
              "      <td>0.0</td>\n",
              "      <td>1.0</td>\n",
              "      <td>1.0</td>\n",
              "      <td>...</td>\n",
              "      <td>Below Poverty</td>\n",
              "      <td>Not Married</td>\n",
              "      <td>Rent</td>\n",
              "      <td>Employed</td>\n",
              "      <td>bhuqouqj</td>\n",
              "      <td>MSA, Not Principle  City</td>\n",
              "      <td>0.0</td>\n",
              "      <td>0.0</td>\n",
              "      <td>pxcmvdjn</td>\n",
              "      <td>xgwztkwe</td>\n",
              "    </tr>\n",
              "    <tr>\n",
              "      <th>2</th>\n",
              "      <td>2</td>\n",
              "      <td>1.0</td>\n",
              "      <td>1.0</td>\n",
              "      <td>0.0</td>\n",
              "      <td>1.0</td>\n",
              "      <td>0.0</td>\n",
              "      <td>0.0</td>\n",
              "      <td>0.0</td>\n",
              "      <td>0.0</td>\n",
              "      <td>0.0</td>\n",
              "      <td>...</td>\n",
              "      <td>&lt;= $75,000, Above Poverty</td>\n",
              "      <td>Not Married</td>\n",
              "      <td>Own</td>\n",
              "      <td>Employed</td>\n",
              "      <td>qufhixun</td>\n",
              "      <td>MSA, Not Principle  City</td>\n",
              "      <td>2.0</td>\n",
              "      <td>0.0</td>\n",
              "      <td>rucpziij</td>\n",
              "      <td>xtkaffoo</td>\n",
              "    </tr>\n",
              "    <tr>\n",
              "      <th>3</th>\n",
              "      <td>3</td>\n",
              "      <td>1.0</td>\n",
              "      <td>1.0</td>\n",
              "      <td>0.0</td>\n",
              "      <td>1.0</td>\n",
              "      <td>0.0</td>\n",
              "      <td>1.0</td>\n",
              "      <td>1.0</td>\n",
              "      <td>0.0</td>\n",
              "      <td>0.0</td>\n",
              "      <td>...</td>\n",
              "      <td>Below Poverty</td>\n",
              "      <td>Not Married</td>\n",
              "      <td>Rent</td>\n",
              "      <td>Not in Labor Force</td>\n",
              "      <td>lrircsnp</td>\n",
              "      <td>MSA, Principle City</td>\n",
              "      <td>0.0</td>\n",
              "      <td>0.0</td>\n",
              "      <td>NaN</td>\n",
              "      <td>NaN</td>\n",
              "    </tr>\n",
              "    <tr>\n",
              "      <th>4</th>\n",
              "      <td>4</td>\n",
              "      <td>2.0</td>\n",
              "      <td>1.0</td>\n",
              "      <td>0.0</td>\n",
              "      <td>1.0</td>\n",
              "      <td>0.0</td>\n",
              "      <td>1.0</td>\n",
              "      <td>1.0</td>\n",
              "      <td>0.0</td>\n",
              "      <td>1.0</td>\n",
              "      <td>...</td>\n",
              "      <td>&lt;= $75,000, Above Poverty</td>\n",
              "      <td>Married</td>\n",
              "      <td>Own</td>\n",
              "      <td>Employed</td>\n",
              "      <td>qufhixun</td>\n",
              "      <td>MSA, Not Principle  City</td>\n",
              "      <td>1.0</td>\n",
              "      <td>0.0</td>\n",
              "      <td>wxleyezf</td>\n",
              "      <td>emcorrxb</td>\n",
              "    </tr>\n",
              "  </tbody>\n",
              "</table>\n",
              "<p>5 rows × 36 columns</p>\n",
              "</div>\n",
              "      <button class=\"colab-df-convert\" onclick=\"convertToInteractive('df-a4d5ac78-6659-4b30-9246-740eeba54c4d')\"\n",
              "              title=\"Convert this dataframe to an interactive table.\"\n",
              "              style=\"display:none;\">\n",
              "        \n",
              "  <svg xmlns=\"http://www.w3.org/2000/svg\" height=\"24px\"viewBox=\"0 0 24 24\"\n",
              "       width=\"24px\">\n",
              "    <path d=\"M0 0h24v24H0V0z\" fill=\"none\"/>\n",
              "    <path d=\"M18.56 5.44l.94 2.06.94-2.06 2.06-.94-2.06-.94-.94-2.06-.94 2.06-2.06.94zm-11 1L8.5 8.5l.94-2.06 2.06-.94-2.06-.94L8.5 2.5l-.94 2.06-2.06.94zm10 10l.94 2.06.94-2.06 2.06-.94-2.06-.94-.94-2.06-.94 2.06-2.06.94z\"/><path d=\"M17.41 7.96l-1.37-1.37c-.4-.4-.92-.59-1.43-.59-.52 0-1.04.2-1.43.59L10.3 9.45l-7.72 7.72c-.78.78-.78 2.05 0 2.83L4 21.41c.39.39.9.59 1.41.59.51 0 1.02-.2 1.41-.59l7.78-7.78 2.81-2.81c.8-.78.8-2.07 0-2.86zM5.41 20L4 18.59l7.72-7.72 1.47 1.35L5.41 20z\"/>\n",
              "  </svg>\n",
              "      </button>\n",
              "      \n",
              "  <style>\n",
              "    .colab-df-container {\n",
              "      display:flex;\n",
              "      flex-wrap:wrap;\n",
              "      gap: 12px;\n",
              "    }\n",
              "\n",
              "    .colab-df-convert {\n",
              "      background-color: #E8F0FE;\n",
              "      border: none;\n",
              "      border-radius: 50%;\n",
              "      cursor: pointer;\n",
              "      display: none;\n",
              "      fill: #1967D2;\n",
              "      height: 32px;\n",
              "      padding: 0 0 0 0;\n",
              "      width: 32px;\n",
              "    }\n",
              "\n",
              "    .colab-df-convert:hover {\n",
              "      background-color: #E2EBFA;\n",
              "      box-shadow: 0px 1px 2px rgba(60, 64, 67, 0.3), 0px 1px 3px 1px rgba(60, 64, 67, 0.15);\n",
              "      fill: #174EA6;\n",
              "    }\n",
              "\n",
              "    [theme=dark] .colab-df-convert {\n",
              "      background-color: #3B4455;\n",
              "      fill: #D2E3FC;\n",
              "    }\n",
              "\n",
              "    [theme=dark] .colab-df-convert:hover {\n",
              "      background-color: #434B5C;\n",
              "      box-shadow: 0px 1px 3px 1px rgba(0, 0, 0, 0.15);\n",
              "      filter: drop-shadow(0px 1px 2px rgba(0, 0, 0, 0.3));\n",
              "      fill: #FFFFFF;\n",
              "    }\n",
              "  </style>\n",
              "\n",
              "      <script>\n",
              "        const buttonEl =\n",
              "          document.querySelector('#df-a4d5ac78-6659-4b30-9246-740eeba54c4d button.colab-df-convert');\n",
              "        buttonEl.style.display =\n",
              "          google.colab.kernel.accessAllowed ? 'block' : 'none';\n",
              "\n",
              "        async function convertToInteractive(key) {\n",
              "          const element = document.querySelector('#df-a4d5ac78-6659-4b30-9246-740eeba54c4d');\n",
              "          const dataTable =\n",
              "            await google.colab.kernel.invokeFunction('convertToInteractive',\n",
              "                                                     [key], {});\n",
              "          if (!dataTable) return;\n",
              "\n",
              "          const docLinkHtml = 'Like what you see? Visit the ' +\n",
              "            '<a target=\"_blank\" href=https://colab.research.google.com/notebooks/data_table.ipynb>data table notebook</a>'\n",
              "            + ' to learn more about interactive tables.';\n",
              "          element.innerHTML = '';\n",
              "          dataTable['output_type'] = 'display_data';\n",
              "          await google.colab.output.renderOutput(dataTable, element);\n",
              "          const docLink = document.createElement('div');\n",
              "          docLink.innerHTML = docLinkHtml;\n",
              "          element.appendChild(docLink);\n",
              "        }\n",
              "      </script>\n",
              "    </div>\n",
              "  </div>\n",
              "  "
            ]
          },
          "metadata": {},
          "execution_count": 10
        }
      ]
    },
    {
      "cell_type": "code",
      "source": [
        "#checking for nulls\n",
        "df.isnull().sum()"
      ],
      "metadata": {
        "colab": {
          "base_uri": "https://localhost:8080/"
        },
        "id": "Wbp3Gxpgvx2_",
        "outputId": "0a228a66-aa6a-4b69-c0ac-d1dcb72a38ef"
      },
      "execution_count": null,
      "outputs": [
        {
          "output_type": "execute_result",
          "data": {
            "text/plain": [
              "respondent_id                      0\n",
              "h1n1_concern                      92\n",
              "h1n1_knowledge                   116\n",
              "behavioral_antiviral_meds         71\n",
              "behavioral_avoidance             208\n",
              "behavioral_face_mask              19\n",
              "behavioral_wash_hands             42\n",
              "behavioral_large_gatherings       87\n",
              "behavioral_outside_home           82\n",
              "behavioral_touch_face            128\n",
              "doctor_recc_h1n1                2160\n",
              "doctor_recc_seasonal            2160\n",
              "chronic_med_condition            971\n",
              "child_under_6_months             820\n",
              "health_worker                    804\n",
              "health_insurance               12274\n",
              "opinion_h1n1_vacc_effective      391\n",
              "opinion_h1n1_risk                388\n",
              "opinion_h1n1_sick_from_vacc      395\n",
              "opinion_seas_vacc_effective      462\n",
              "opinion_seas_risk                514\n",
              "opinion_seas_sick_from_vacc      537\n",
              "age_group                          0\n",
              "education                       1407\n",
              "race                               0\n",
              "sex                                0\n",
              "income_poverty                  4423\n",
              "marital_status                  1408\n",
              "rent_or_own                     2042\n",
              "employment_status               1463\n",
              "hhs_geo_region                     0\n",
              "census_msa                         0\n",
              "household_adults                 249\n",
              "household_children               249\n",
              "employment_industry            13330\n",
              "employment_occupation          13470\n",
              "h1n1_vaccine                       0\n",
              "seasonal_vaccine                   0\n",
              "dtype: int64"
            ]
          },
          "metadata": {},
          "execution_count": 13
        }
      ]
    },
    {
      "cell_type": "code",
      "source": [
        "df['seasonal_vaccine'].value_counts()"
      ],
      "metadata": {
        "colab": {
          "base_uri": "https://localhost:8080/"
        },
        "id": "OL5hxrj_x-gL",
        "outputId": "99f26629-46b1-4065-e89f-3f72c7584b15"
      },
      "execution_count": null,
      "outputs": [
        {
          "output_type": "execute_result",
          "data": {
            "text/plain": [
              "0    14272\n",
              "1    12435\n",
              "Name: seasonal_vaccine, dtype: int64"
            ]
          },
          "metadata": {},
          "execution_count": 23
        }
      ]
    },
    {
      "cell_type": "code",
      "source": [
        "#since we are working with to determine how many people got the seasonal flu, we will drop the h1n1 vaccine\n",
        "import seaborn as sns\n",
        "sns.countplot('seasonal_vaccine',data=Y)"
      ],
      "metadata": {
        "colab": {
          "base_uri": "https://localhost:8080/",
          "height": 352
        },
        "id": "mDAbm3JEwGhX",
        "outputId": "7cc2a57b-6765-408e-d73c-6dceb94bc19f"
      },
      "execution_count": null,
      "outputs": [
        {
          "output_type": "stream",
          "name": "stderr",
          "text": [
            "/usr/local/lib/python3.8/dist-packages/seaborn/_decorators.py:36: FutureWarning: Pass the following variable as a keyword arg: x. From version 0.12, the only valid positional argument will be `data`, and passing other arguments without an explicit keyword will result in an error or misinterpretation.\n",
            "  warnings.warn(\n"
          ]
        },
        {
          "output_type": "execute_result",
          "data": {
            "text/plain": [
              "<matplotlib.axes._subplots.AxesSubplot at 0x7f82087ff3a0>"
            ]
          },
          "metadata": {},
          "execution_count": 19
        },
        {
          "output_type": "display_data",
          "data": {
            "text/plain": [
              "<Figure size 432x288 with 1 Axes>"
            ],
            "image/png": "[encoded data removed]"
          },
          "metadata": {
            "needs_background": "light"
          }
        }
      ]
    },
    {
      "cell_type": "code",
      "source": [
        "#12435 people received the seasonal_vaccine. We want to check if they were correctly classified"
      ],
      "metadata": {
        "id": "gOtJ_tL4yKc6"
      },
      "execution_count": null,
      "outputs": []
    },
    {
      "cell_type": "markdown",
      "source": [],
      "metadata": {
        "id": "XRfoFpqiub26"
      }
    },
    {
      "cell_type": "code",
      "source": [
        "training_features_data.isna().sum()"
      ],
      "metadata": {
        "colab": {
          "base_uri": "https://localhost:8080/"
        },
        "id": "p9MCdMnoq_AO",
        "outputId": "a4a866fa-2404-4a46-ba47-8073d6623c68"
      },
      "execution_count": null,
      "outputs": [
        {
          "output_type": "execute_result",
          "data": {
            "text/plain": [
              "respondent_id                      0\n",
              "h1n1_concern                      92\n",
              "h1n1_knowledge                   116\n",
              "behavioral_antiviral_meds         71\n",
              "behavioral_avoidance             208\n",
              "behavioral_face_mask              19\n",
              "behavioral_wash_hands             42\n",
              "behavioral_large_gatherings       87\n",
              "behavioral_outside_home           82\n",
              "behavioral_touch_face            128\n",
              "doctor_recc_h1n1                2160\n",
              "doctor_recc_seasonal            2160\n",
              "chronic_med_condition            971\n",
              "child_under_6_months             820\n",
              "health_worker                    804\n",
              "health_insurance               12274\n",
              "opinion_h1n1_vacc_effective      391\n",
              "opinion_h1n1_risk                388\n",
              "opinion_h1n1_sick_from_vacc      395\n",
              "opinion_seas_vacc_effective      462\n",
              "opinion_seas_risk                514\n",
              "opinion_seas_sick_from_vacc      537\n",
              "age_group                          0\n",
              "education                       1407\n",
              "race                               0\n",
              "sex                                0\n",
              "income_poverty                  4423\n",
              "marital_status                  1408\n",
              "rent_or_own                     2042\n",
              "employment_status               1463\n",
              "hhs_geo_region                     0\n",
              "census_msa                         0\n",
              "household_adults                 249\n",
              "household_children               249\n",
              "employment_industry            13330\n",
              "employment_occupation          13470\n",
              "dtype: int64"
            ]
          },
          "metadata": {},
          "execution_count": 5
        }
      ]
    },
    {
      "cell_type": "code",
      "source": [
        "# Data_visual=pd.concat([X, Y], axis=1)\n",
        "df[\"count\"]=1"
      ],
      "metadata": {
        "id": "Jd7Vd-83y1fs"
      },
      "execution_count": null,
      "outputs": []
    },
    {
      "cell_type": "code",
      "source": [
        "def to_matrix(l, n):\n",
        "    return [l[i:i+n] for i in range(0, len(l), n)]"
      ],
      "metadata": {
        "id": "foS1yUV7ydtS"
      },
      "execution_count": null,
      "outputs": []
    }
  ]
}